{
 "cells": [
  {
   "cell_type": "code",
   "id": "initial_id",
   "metadata": {
    "collapsed": true,
    "ExecuteTime": {
     "end_time": "2025-08-04T11:20:47.028417Z",
     "start_time": "2025-08-04T11:20:47.025471Z"
    }
   },
   "source": [
    "import os\n",
    "import torch\n",
    "import chromadb\n",
    "from chromadb.utils import embedding_functions\n",
    "from sentence_transformers import SentenceTransformer\n"
   ],
   "outputs": [],
   "execution_count": 5
  },
  {
   "metadata": {
    "ExecuteTime": {
     "end_time": "2025-08-04T11:20:47.764262Z",
     "start_time": "2025-08-04T11:20:47.759386Z"
    }
   },
   "cell_type": "code",
   "source": [
    "# ----------- Setting up the stage ----------\n",
    "PROJECT_ROOT = os.path.abspath(os.path.join(os.getcwd(), os.pardir))\n",
    "DATA_DIR = os.path.join(PROJECT_ROOT, \"data\")\n",
    "VECTOR_DB_DIR = os.path.join(DATA_DIR, \"chroma_db\") # Directory where ChromaDB is persisted\n",
    "\n",
    "COLLECTION_NAME = \"pakistan_laws_chunks_collection\"\n",
    "EMBEDDING_MODEL_NAME = \"BAAI/bge-large-en-v1.5\" # This MUST be the exact model you used to generate embeddings\n",
    "\n",
    "print(f\"Project root: {PROJECT_ROOT}\")\n",
    "print(f\"Data directory: {DATA_DIR}\")\n",
    "print(f\"Vector DB directory: {VECTOR_DB_DIR}\")"
   ],
   "id": "27f4a8ca2503d97e",
   "outputs": [
    {
     "name": "stdout",
     "output_type": "stream",
     "text": [
      "Project root: /Users/apple/PycharmProjects/LLM_Production_01_RAG/Haq_ooq_RAG\n",
      "Data directory: /Users/apple/PycharmProjects/LLM_Production_01_RAG/Haq_ooq_RAG/data\n",
      "Vector DB directory: /Users/apple/PycharmProjects/LLM_Production_01_RAG/Haq_ooq_RAG/data/chroma_db\n"
     ]
    }
   ],
   "execution_count": 6
  },
  {
   "metadata": {
    "ExecuteTime": {
     "end_time": "2025-08-04T11:20:59.306288Z",
     "start_time": "2025-08-04T11:20:48.748032Z"
    }
   },
   "cell_type": "code",
   "source": [
    "# ----- Setting up my love with chromadb via its client ------\n",
    "print(f\"\\nInitializing ChromaDB client at: {VECTOR_DB_DIR}\")\n",
    "try:\n",
    "    client = chromadb.PersistentClient(path=VECTOR_DB_DIR)\n",
    "    embedding_function_for_chroma = embedding_functions.SentenceTransformerEmbeddingFunction(\n",
    "        model_name=EMBEDDING_MODEL_NAME,\n",
    "        device='cuda' if torch.cuda.is_available() else 'cpu'\n",
    "    )\n",
    "    collection = client.get_collection(\n",
    "        name = COLLECTION_NAME,\n",
    "        embedding_function = embedding_function_for_chroma\n",
    "    )\n",
    "    print(f\"Successfully connected to ChromaDB collection '{COLLECTION_NAME}'.\")\n",
    "    print(f\"Current count in collection: {collection.count()} chunks.\")\n",
    "\n",
    "except Exception as e:\n",
    "    print(f\"Error connecting to ChromaDB collection: {e}\")\n",
    "    print(\"Please ensure your 'chroma_db' directory exists and contains data.\")\n",
    "    print(\"Also verify 'COLLECTION_NAME' and 'EMBEDDING_MODEL_NAME' are correct.\")\n",
    "    # Exit or handle error appropriately if connection fails\n",
    "    exit()\n",
    "    "
   ],
   "id": "7b6d6f25f533bf62",
   "outputs": [
    {
     "name": "stdout",
     "output_type": "stream",
     "text": [
      "\n",
      "Initializing ChromaDB client at: /Users/apple/PycharmProjects/LLM_Production_01_RAG/Haq_ooq_RAG/data/chroma_db\n",
      "Successfully connected to ChromaDB collection 'pakistan_laws_chunks_collection'.\n",
      "Current count in collection: 30122 chunks.\n"
     ]
    }
   ],
   "execution_count": 7
  },
  {
   "metadata": {
    "ExecuteTime": {
     "end_time": "2025-08-04T11:21:07.362076Z",
     "start_time": "2025-08-04T11:20:59.327780Z"
    }
   },
   "cell_type": "code",
   "source": [
    "query_embedding_model = None\n",
    "\n",
    "try:\n",
    "    query_embedding_model = SentenceTransformer(EMBEDDING_MODEL_NAME, device='cuda' if torch.cuda.is_available() else 'cpu')\n",
    "    print(f\"\\nQuery embedding model '{EMBEDDING_MODEL_NAME}' loaded successfully.\")\n",
    "    \n",
    "except Exception as e:\n",
    "    print(f\"Error loading query embedding model: {e}\")\n",
    "    print(\"Please ensure the model can be downloaded/loaded. Exiting for now.\")\n",
    "    exit() # Or handle more gracefully"
   ],
   "id": "6e219cd8be8801c",
   "outputs": [
    {
     "name": "stdout",
     "output_type": "stream",
     "text": [
      "\n",
      "Query embedding model 'BAAI/bge-large-en-v1.5' loaded successfully.\n"
     ]
    }
   ],
   "execution_count": 8
  },
  {
   "metadata": {
    "ExecuteTime": {
     "end_time": "2025-08-04T11:21:08.700478Z",
     "start_time": "2025-08-04T11:21:08.694779Z"
    }
   },
   "cell_type": "code",
   "source": [
    "# --- lets engineer the Retriever Function ---\n",
    "\n",
    "def retrieve_relevant_chunks(query_text: str, n_results: int = 5) -> list:\n",
    "    \"\"\"\n",
    "    Embeds the query and retrieves the most relevant chunks from ChromaDB.\n",
    "\n",
    "    Args:\n",
    "        query_text (str): The user's query.\n",
    "        n_results (int): The number of top relevant chunks to retrieve.\n",
    "\n",
    "    Returns:\n",
    "        list: A list of dictionaries, where each dictionary represents a retrieved chunk\n",
    "              with its content and metadata.\n",
    "    \"\"\"\n",
    "    if query_embedding_model is None:\n",
    "        print(\"Query embedding model not loaded. Cannot retrieve chunks.\")\n",
    "        return []\n",
    "\n",
    "    # Generate embedding for the query using the same model\n",
    "    query_embedding = query_embedding_model.encode(query_text).tolist()\n",
    "    \n",
    "    # Query the ChromaDB collection\n",
    "    results = collection.query(\n",
    "        query_embeddings=[query_embedding],\n",
    "        n_results=n_results,\n",
    "        include=['documents', 'metadatas', 'distances'] # Request documents, their metadata, and similarity scores\n",
    "    )\n",
    "    retrieved_chunks_info = []\n",
    "    \n",
    "    if results and results['documents']:\n",
    "        # Results are lists of lists, so we take the first element (for our single query)\n",
    "        for i in range(len(results['documents'][0])):\n",
    "            chunk_content = results['documents'][0][i]\n",
    "            metadata = results['metadatas'][0][i]\n",
    "            distance = results['distances'][0][i] # Similarity score (lower is more similar)\n",
    "\n",
    "            retrieved_chunks_info.append({\n",
    "                \"chunk_content\": chunk_content,\n",
    "                \"source_file\": metadata.get('source_file'),\n",
    "                \"section_title\": metadata.get('section_title'),\n",
    "                \"distance\": distance # Include distance for debugging/understanding relevance\n",
    "            })\n",
    "    \n",
    "    print(f\"\\nRetrieved {len(retrieved_chunks_info)} chunks for the query: '{query_text}'\")\n",
    "    return retrieved_chunks_info"
   ],
   "id": "d8b5d48384de2cfb",
   "outputs": [],
   "execution_count": 9
  },
  {
   "metadata": {},
   "cell_type": "markdown",
   "source": "# Defining the Tools",
   "id": "10afb89e476d3f37"
  },
  {
   "metadata": {
    "ExecuteTime": {
     "end_time": "2025-08-04T11:21:11.656035Z",
     "start_time": "2025-08-04T11:21:11.652758Z"
    }
   },
   "cell_type": "code",
   "source": [
    "from langchain.tools import tool\n",
    "from langchain_community.tools import DuckDuckGoSearchRun"
   ],
   "id": "d7048228d7a51af9",
   "outputs": [],
   "execution_count": 10
  },
  {
   "metadata": {
    "ExecuteTime": {
     "end_time": "2025-08-04T11:21:12.771710Z",
     "start_time": "2025-08-04T11:21:12.763024Z"
    }
   },
   "cell_type": "code",
   "source": [
    "# Local Legal Document Search Tool\n",
    "@tool\n",
    "def legal_document_search(query: str) -> str:\n",
    "    \"\"\"Searches the local legal documents for relevant information.\n",
    "    Use this tool when the question is about specific Pakistani laws, ordinances, or legal documents that might be in the local knowledge base.\n",
    "    Input should be a clear, standalone question or keyword phrase relevant to the local documents.\"\"\"\n",
    "    print(f\"\\n--- Using legal_document_search tool for query: '{query}' ---\")\n",
    "    chunks = retrieve_relevant_chunks(query, n_results=5)\n",
    "    if not chunks:\n",
    "        return \"No relevant documents found in local knowledge base!\"\n",
    "    formatted_context = \"\\n\\n\".join(chunk['chunk_content'] for chunk in chunks)\n",
    "    return formatted_context\n",
    "\n",
    "\n",
    "# Web Search Tool\n",
    "web_search_tool = DuckDuckGoSearchRun(\n",
    "    name=\"web_search\",\n",
    "    description=\"Useful for general knowledge questions or when information is not found in local legal documents. Input should be a concise search query.\"\n",
    ")\n",
    "\n",
    "\n",
    "tools = [legal_document_search, web_search_tool]\n",
    "print(\"Tools defined: legal_document_search, web_search\")\n",
    "\n"
   ],
   "id": "ff76b3ea76f638f1",
   "outputs": [
    {
     "name": "stdout",
     "output_type": "stream",
     "text": [
      "Tools defined: legal_document_search, web_search\n"
     ]
    }
   ],
   "execution_count": 11
  },
  {
   "metadata": {},
   "cell_type": "markdown",
   "source": "# Setting up the LLM agent to use our tools to answer user's question",
   "id": "e12e9edd456e5c22"
  },
  {
   "metadata": {
    "ExecuteTime": {
     "end_time": "2025-08-04T11:21:17.305097Z",
     "start_time": "2025-08-04T11:21:16.549874Z"
    }
   },
   "cell_type": "code",
   "source": [
    "from langchain.agents import AgentExecutor, create_tool_calling_agent\n",
    "from langchain_core.prompts import ChatPromptTemplate\n",
    "from langchain_ollama import ChatOllama\n"
   ],
   "id": "6424c76a7a1b9ce5",
   "outputs": [],
   "execution_count": 12
  },
  {
   "metadata": {
    "ExecuteTime": {
     "end_time": "2025-08-04T11:21:32.301661Z",
     "start_time": "2025-08-04T11:21:32.200761Z"
    }
   },
   "cell_type": "code",
   "source": [
    "try:\n",
    "    llm = ChatOllama(model=\"qwen3:1.7b\") # <<< Ensure 'model=' is used here\n",
    "    print(\"Generative LLM (qwen3:1.7b via Ollama) initialized successfully.\")\n",
    "except Exception as e:\n",
    "    print(f\"Error initializing Ollama LLM: {e}\")\n",
    "    print(\"Please ensure Ollama is installed and the 'qwen3:1.7b' model is downloaded and running.\")\n",
    "    print(\"You might need to start Ollama with 'ollama run qwen3:1.7b' in your terminal.\")\n",
    "    exit() # Or handle error more gracefully\n",
    "    \n",
    "    \n",
    "# Define the Agent Prompt\n",
    "# This prompt guides the LLM on its role and how to use the tools.\n",
    "prompt = ChatPromptTemplate.from_messages([\n",
    "    (\"system\", \"You are a helpful legal assistant specializing in Pakistani law. \"\n",
    "               \"Your primary goal is to answer questions related to Pakistani laws, ordinances, and legal documents. \"\n",
    "               \"You have access to two specialized tools:\\n\"\n",
    "               \"1. `legal_document_search`: Use this tool first for **any question that appears to be about Pakistani laws or legal documents** within your local knowledge base. You **MUST** call this tool and process its full output before deciding the next step.\\n\"\n",
    "               \"2. `web_search`: Use this tool *only* if the question is explicitly related to **Pakistani laws or legal affairs** (e.g., current legal officeholders, recent amendments to laws not in your local documents, or clarification on a legal term/concept where local docs are insufficient) AND the `legal_document_search` tool's *actual output* did not provide a comprehensive, up-to-date, or specific answer required by the query. You **MUST** call this tool and process its full output before proceeding with an answer if it's deemed necessary.\\n\\n\"\n",
    "               \"**CRITICAL EXECUTION GUIDELINES:**\\n\"\n",
    "               \"- **NEVER** provide an answer to a question that requires tool use without **FIRST** explicitly invoking the necessary tool(s) and carefully reviewing their *actual, complete output*.\\n\"\n",
    "               \"- **DO NOT rely on your internal knowledge for current events, specific names (like current officeholders), or any dynamic information.** If such information is needed for a legal question, you **MUST** use `web_search` if `legal_document_search` fails to provide it. You *cannot* assume you know the answer or make it up.\\n\"\n",
    "               \"- If a question is **NOT related to Pakistani laws or legal affairs at all** (e.g., general knowledge, economic data like inflation, sports scores, non-legal biographical information), **DO NOT use ANY search tools (`legal_document_search` or `web_search`)**. Instead, politely inform the user that you are a specialized legal assistant and cannot provide information on that non-legal topic, suggesting they consult a more appropriate source.\\n\"\n",
    "               \"- **Every answer you provide MUST be directly supported by the content retrieved from the invoked tool(s).** If a tool's output is empty or does not contain the specific answer needed, you **MUST NOT** make up information or attribute an answer to that tool.\\n\"\n",
    "               \"- If no relevant information is found after *actually invoking and reviewing the outputs* of all appropriate tools (based on the question type and the real content from tool outputs), then state that you cannot find the answer.\\n\"\n",
    "               \"- When providing an answer, be precise and **cite the exact source tool and any relevant document names or dates** (e.g., 'According to the local legal documents...', 'A web search indicates...', 'Based on the legal_document_search results from The Privatisation Commission Ordinance, 2000...').\"),\n",
    "    (\"user\", \"{question}\"),\n",
    "    (\"placeholder\", \"{agent_scratchpad}\") # This is for the agent's internal thought process and tool calls\n",
    "])"
   ],
   "id": "798f84a12f802487",
   "outputs": [
    {
     "name": "stdout",
     "output_type": "stream",
     "text": [
      "Generative LLM (qwen3:1.7b via Ollama) initialized successfully.\n"
     ]
    }
   ],
   "execution_count": 14
  },
  {
   "metadata": {
    "ExecuteTime": {
     "end_time": "2025-08-04T11:21:33.036601Z",
     "start_time": "2025-08-04T11:21:33.016511Z"
    }
   },
   "cell_type": "code",
   "source": [
    "llm_with_tools = llm.bind_tools(tools)\n",
    "agent = create_tool_calling_agent(llm_with_tools, tools, prompt)\n",
    "agent_executor = AgentExecutor(agent=agent, tools=tools, verbose=True, handle_parsing_errors=True)\n",
    "print(\"\\nLLM Agent (with local and web search tools) assembled.\")"
   ],
   "id": "166cd5184231651d",
   "outputs": [
    {
     "name": "stdout",
     "output_type": "stream",
     "text": [
      "\n",
      "LLM Agent (with local and web search tools) assembled.\n"
     ]
    }
   ],
   "execution_count": 15
  },
  {
   "metadata": {
    "ExecuteTime": {
     "end_time": "2025-08-04T08:41:19.068151Z",
     "start_time": "2025-08-04T08:38:56.679622Z"
    }
   },
   "cell_type": "code",
   "source": [
    "# --- Test the Full RAG Pipeline with Agent ---\n",
    "    \n",
    "# Sample legal query that should use local documents\n",
    "question_1 = \"What are the functions and powers of the Privatisation Commission as per the Ordinance?\"\n",
    "print(f\"\\nQuestion 1: {question_1}\")\n",
    "response_1 = agent_executor.invoke({\"question\": question_1})\n",
    "print(\"\\nAnswer 1:\")\n",
    "print(response_1[\"output\"]) # AgentExecutor returns a dict, output is in 'output' key\n"
   ],
   "id": "2f052d677d5871a8",
   "outputs": [
    {
     "name": "stdout",
     "output_type": "stream",
     "text": [
      "\n",
      "Question 1: What are the functions and powers of the Privatisation Commission as per the Ordinance?\n",
      "\n",
      "\n",
      "\u001B[1m> Entering new AgentExecutor chain...\u001B[0m\n",
      "\u001B[32;1m\u001B[1;3m\n",
      "Invoking: `legal_document_search` with `{'query': 'Functions and powers of Privatisation Commission as per Ordinance'}`\n",
      "responded: <think>\n",
      "Okay, the user is asking about the functions and powers of the Privatisation Commission as per the Ordinance. First, I need to check if there's a specific ordinance related to this. Since the user mentioned \"Ordinance,\" I should use the legal_document_search tool first. The query should be about the functions and powers of the Privatisation Commission. Let me call the legal_document_search with the query \"Functions and powers of Privatisation Commission as per Ordinance.\" \n",
      "\n",
      "If the search returns relevant information, I can extract the details. If not, I'll use the web_search tool for general knowledge. But since the user specifically mentioned an ordinance, I should prioritize the legal_document_search. Let me proceed with that.\n",
      "</think>\n",
      "\n",
      "\n",
      "\n",
      "\u001B[0m\n",
      "--- Using legal_document_search tool for query: 'Functions and powers of Privatisation Commission as per Ordinance' ---\n"
     ]
    },
    {
     "name": "stderr",
     "output_type": "stream",
     "text": [
      "/Users/apple/PycharmProjects/LLM_Production_01_RAG/.venv/lib/python3.12/site-packages/torch/nn/modules/module.py:1520: FutureWarning: `encoder_attention_mask` is deprecated and will be removed in version 4.55.0 for `BertSdpaSelfAttention.forward`.\n",
      "  return forward_call(*args, **kwargs)\n",
      "/Users/apple/PycharmProjects/LLM_Production_01_RAG/.venv/lib/python3.12/site-packages/torch/nn/modules/module.py:1520: FutureWarning: `encoder_attention_mask` is deprecated and will be removed in version 4.55.0 for `BertSdpaSelfAttention.forward`.\n",
      "  return forward_call(*args, **kwargs)\n",
      "/Users/apple/PycharmProjects/LLM_Production_01_RAG/.venv/lib/python3.12/site-packages/torch/nn/modules/module.py:1520: FutureWarning: `encoder_attention_mask` is deprecated and will be removed in version 4.55.0 for `BertSdpaSelfAttention.forward`.\n",
      "  return forward_call(*args, **kwargs)\n",
      "/Users/apple/PycharmProjects/LLM_Production_01_RAG/.venv/lib/python3.12/site-packages/torch/nn/modules/module.py:1520: FutureWarning: `encoder_attention_mask` is deprecated and will be removed in version 4.55.0 for `BertSdpaSelfAttention.forward`.\n",
      "  return forward_call(*args, **kwargs)\n",
      "/Users/apple/PycharmProjects/LLM_Production_01_RAG/.venv/lib/python3.12/site-packages/torch/nn/modules/module.py:1520: FutureWarning: `encoder_attention_mask` is deprecated and will be removed in version 4.55.0 for `BertSdpaSelfAttention.forward`.\n",
      "  return forward_call(*args, **kwargs)\n",
      "/Users/apple/PycharmProjects/LLM_Production_01_RAG/.venv/lib/python3.12/site-packages/torch/nn/modules/module.py:1520: FutureWarning: `encoder_attention_mask` is deprecated and will be removed in version 4.55.0 for `BertSdpaSelfAttention.forward`.\n",
      "  return forward_call(*args, **kwargs)\n",
      "/Users/apple/PycharmProjects/LLM_Production_01_RAG/.venv/lib/python3.12/site-packages/torch/nn/modules/module.py:1520: FutureWarning: `encoder_attention_mask` is deprecated and will be removed in version 4.55.0 for `BertSdpaSelfAttention.forward`.\n",
      "  return forward_call(*args, **kwargs)\n",
      "/Users/apple/PycharmProjects/LLM_Production_01_RAG/.venv/lib/python3.12/site-packages/torch/nn/modules/module.py:1520: FutureWarning: `encoder_attention_mask` is deprecated and will be removed in version 4.55.0 for `BertSdpaSelfAttention.forward`.\n",
      "  return forward_call(*args, **kwargs)\n",
      "/Users/apple/PycharmProjects/LLM_Production_01_RAG/.venv/lib/python3.12/site-packages/torch/nn/modules/module.py:1520: FutureWarning: `encoder_attention_mask` is deprecated and will be removed in version 4.55.0 for `BertSdpaSelfAttention.forward`.\n",
      "  return forward_call(*args, **kwargs)\n",
      "/Users/apple/PycharmProjects/LLM_Production_01_RAG/.venv/lib/python3.12/site-packages/torch/nn/modules/module.py:1520: FutureWarning: `encoder_attention_mask` is deprecated and will be removed in version 4.55.0 for `BertSdpaSelfAttention.forward`.\n",
      "  return forward_call(*args, **kwargs)\n",
      "/Users/apple/PycharmProjects/LLM_Production_01_RAG/.venv/lib/python3.12/site-packages/torch/nn/modules/module.py:1520: FutureWarning: `encoder_attention_mask` is deprecated and will be removed in version 4.55.0 for `BertSdpaSelfAttention.forward`.\n",
      "  return forward_call(*args, **kwargs)\n",
      "/Users/apple/PycharmProjects/LLM_Production_01_RAG/.venv/lib/python3.12/site-packages/torch/nn/modules/module.py:1520: FutureWarning: `encoder_attention_mask` is deprecated and will be removed in version 4.55.0 for `BertSdpaSelfAttention.forward`.\n",
      "  return forward_call(*args, **kwargs)\n",
      "/Users/apple/PycharmProjects/LLM_Production_01_RAG/.venv/lib/python3.12/site-packages/torch/nn/modules/module.py:1520: FutureWarning: `encoder_attention_mask` is deprecated and will be removed in version 4.55.0 for `BertSdpaSelfAttention.forward`.\n",
      "  return forward_call(*args, **kwargs)\n",
      "/Users/apple/PycharmProjects/LLM_Production_01_RAG/.venv/lib/python3.12/site-packages/torch/nn/modules/module.py:1520: FutureWarning: `encoder_attention_mask` is deprecated and will be removed in version 4.55.0 for `BertSdpaSelfAttention.forward`.\n",
      "  return forward_call(*args, **kwargs)\n",
      "/Users/apple/PycharmProjects/LLM_Production_01_RAG/.venv/lib/python3.12/site-packages/torch/nn/modules/module.py:1520: FutureWarning: `encoder_attention_mask` is deprecated and will be removed in version 4.55.0 for `BertSdpaSelfAttention.forward`.\n",
      "  return forward_call(*args, **kwargs)\n",
      "/Users/apple/PycharmProjects/LLM_Production_01_RAG/.venv/lib/python3.12/site-packages/torch/nn/modules/module.py:1520: FutureWarning: `encoder_attention_mask` is deprecated and will be removed in version 4.55.0 for `BertSdpaSelfAttention.forward`.\n",
      "  return forward_call(*args, **kwargs)\n",
      "/Users/apple/PycharmProjects/LLM_Production_01_RAG/.venv/lib/python3.12/site-packages/torch/nn/modules/module.py:1520: FutureWarning: `encoder_attention_mask` is deprecated and will be removed in version 4.55.0 for `BertSdpaSelfAttention.forward`.\n",
      "  return forward_call(*args, **kwargs)\n",
      "/Users/apple/PycharmProjects/LLM_Production_01_RAG/.venv/lib/python3.12/site-packages/torch/nn/modules/module.py:1520: FutureWarning: `encoder_attention_mask` is deprecated and will be removed in version 4.55.0 for `BertSdpaSelfAttention.forward`.\n",
      "  return forward_call(*args, **kwargs)\n",
      "/Users/apple/PycharmProjects/LLM_Production_01_RAG/.venv/lib/python3.12/site-packages/torch/nn/modules/module.py:1520: FutureWarning: `encoder_attention_mask` is deprecated and will be removed in version 4.55.0 for `BertSdpaSelfAttention.forward`.\n",
      "  return forward_call(*args, **kwargs)\n",
      "/Users/apple/PycharmProjects/LLM_Production_01_RAG/.venv/lib/python3.12/site-packages/torch/nn/modules/module.py:1520: FutureWarning: `encoder_attention_mask` is deprecated and will be removed in version 4.55.0 for `BertSdpaSelfAttention.forward`.\n",
      "  return forward_call(*args, **kwargs)\n",
      "/Users/apple/PycharmProjects/LLM_Production_01_RAG/.venv/lib/python3.12/site-packages/torch/nn/modules/module.py:1520: FutureWarning: `encoder_attention_mask` is deprecated and will be removed in version 4.55.0 for `BertSdpaSelfAttention.forward`.\n",
      "  return forward_call(*args, **kwargs)\n",
      "/Users/apple/PycharmProjects/LLM_Production_01_RAG/.venv/lib/python3.12/site-packages/torch/nn/modules/module.py:1520: FutureWarning: `encoder_attention_mask` is deprecated and will be removed in version 4.55.0 for `BertSdpaSelfAttention.forward`.\n",
      "  return forward_call(*args, **kwargs)\n",
      "/Users/apple/PycharmProjects/LLM_Production_01_RAG/.venv/lib/python3.12/site-packages/torch/nn/modules/module.py:1520: FutureWarning: `encoder_attention_mask` is deprecated and will be removed in version 4.55.0 for `BertSdpaSelfAttention.forward`.\n",
      "  return forward_call(*args, **kwargs)\n",
      "/Users/apple/PycharmProjects/LLM_Production_01_RAG/.venv/lib/python3.12/site-packages/torch/nn/modules/module.py:1520: FutureWarning: `encoder_attention_mask` is deprecated and will be removed in version 4.55.0 for `BertSdpaSelfAttention.forward`.\n",
      "  return forward_call(*args, **kwargs)\n"
     ]
    },
    {
     "name": "stdout",
     "output_type": "stream",
     "text": [
      "\n",
      "Retrieved 5 chunks for the query: 'Functions and powers of Privatisation Commission as per Ordinance'\n",
      "\u001B[36;1m\u001B[1;3mTHE PRIVATISATION COMMISSION ORDINANCE, 2000 PART I.—GENERAL SECTIONS: 1. Short title, extent and commencement. 2. Definitions. PART II.—PRIVATISATION COMMISSION 3. Establishment of the Commission. 4. Location of Office. 5. Functions and Powers of the Commission. PART III. —MANAGEMENT AND ADMINISTRATION 6. Board of the Commission. 7. Chairman, Secretary and members. 8. Meetings of the Board. 9. Delegation. 10. Employees of the Commission. 11. Employment of agents, advisers and consultants. 12. Public Servants. 13. Disclosure of interest. PART IV. —FINANCIAL PROVISIONS 14. Funds of the Commission. 15. Expenditure to be charged on the Commission Account. 16. Privatisation Fund. 17. Power to obtain finance and r eceive grants. 18. Investment. 19. Bank accounts. 20. Accounts. 21. Audit. PART V. —PRIVATISATION 22. Privatisation programme. 23. Advertisement of privatisation. 24. Valuation of property. 25. Modes of privatisation. 26. Publication of privatisation transaction. 27. Investigations. PART VI. —JURISDICTION 28. Jurisdiction of High Courts. 29. Procedure and power of High Court in civil matters. 30. Procedure and power of High Court in criminal matters. 31. Transfer of cases. 32. Offences. 33. Appeal. PART VII. —REGULATORY AND OTHER PROVISIONS 34. Extent of Transfer of Property. 35. Directions by Commission. 36. Information. 37. Annual Report. 38. Information to Public. 39. Immunity of the Commission and its employees. 40. Rules. 41. Regulation s. 42. Ordinance to override\n",
      "\n",
      "be at Islamabad. The Commission may establish regional offices at such other place or places in Pakistan as it considers necessary. 5. Functions and Powers of the Commission. — The Commission shall: (a) recommend privatisation policy guidelines to the Cabinet; (b) prepare for the approval of the Cabinet, a comprehensive privatisation programme; (c) plan, manage, implement and control the privatisation programme approved by the Cabinet; (d) prepare and submit reports to the Cabinet on all aspects of the privatisation programme; (e) facilitate or initiate legislation as approved by the Cabinet by or on behalf of concerned Ministry in connection with the privatisation programme; (f) provide overall directions for the implementation of privatisation related activities including restructuring, deregulation and post privatisation matters in sectors designated by the Cabinet; (g) take operational decisions on matters pertaining to privatisation, restructuring, deregulation, regulatory issues including approval of licensing and tariff rules and other related issues pertaining to the privatisation programme approved by the Cabinet; (h) issue directions and instructions to the management of a business undertaking falling within the purview of the privatisation programme approved by the Cabinet on all major important administrative, financial, reporting and policy matters; (i) publicize the activities of the privatisation programme; (j) propose a regulatory framework, including the\n",
      "\n",
      "functions in pursuance of this Ordinance. 47. Dissolution. — No provision of law relating to the winding up of the bodies corporate shall apply to the Commission, and the Commission shall not be wound up except by order of the Federal Government, and in such manner as the Federal Government may direct. 48. Removal of Difficulties. — If any difficulty arises in giving effect to any provision of this Ordinance, the Federal Government may make such order, not inconsistent with the provisio ns of this Ordinance , as may appear to it to be necessary for the purposes of removing the difficulty. 1[SCHEDULE (See subsection (1) of section 16) 1. Badin I 2. Badin II (revised) 3. Dhurnal 4. Ratana 5. Adhi 6. Turkwal] 1Schedule ins. by the Privatisation Commission (Amdt.) Ordinance, 2002 (CXVI of 2002).\n",
      "\n",
      "reporting and policy matters; (i) publicize the activities of the privatisation programme; (j) propose a regulatory framework, including the establishment and strengthening of regulatory authorities, to the Cabinet for independent and fair regulation of each industry sector falling within the purview of the privatisation programme; (k) advise the Federal Government in selection and appointment of the head and a member of a regulatory authority; (l) advise the Federal Government that monopolies are not created in the process of privatisation; (m) appoint advisors, consultants, valuers, lawyers and such other staff, both local and foreign, on such terms as it may determine to discharge its functions under this Ordinance; (n) approve and take decisions and perform all acts to implement preprivatisation restructuring, labour rehabilitation and severance schemes, and all other related matters as approved by the Cabinet; (o) invite applications for the privatisation and ensure widest possible participation; (p) evaluate bids received according to criteria determined by the Commission from time to time and formulate recommendations for consideration by the Cabinet; (q) recommend to the Federal Government such labour and manpower rehabilitation programmes as may be necessary during privatisation and to develop a roster of such employees who may need rehabilitation; (r) advise measures to the Federal Government for improvement of public sector units till their privatisation; (s)\n",
      "\n",
      "and any concerned enterprise owned or controlled wholly or partially, directly or indirectly by the Federal Government, give notice o f its intent to privatise. The Commission shall for each proposed privatisation publish, in at least two English newspapers and two Urdu newspapers 1Subs. by the Privatization Commission (Amendment) Act, 2021 (XLV of 2021), s. 3. 2Subs. by the Privatization Commission (Amendment) Act, 2016 (XVI of 2016), s. 2. with a national circulation on at least two occasions not less than seven days apart, notice of the availability of the subjectmatter of the privatisation and of the salient terms and conditions thereof. Advertisements for privatisation, where necessary, will also be placed in newspapers with an international circulation. 24. Valuation of proper ty.—The valuation of the property shall be performed, in the prescribed manner, by independent valuers who shall issue a valuation report to the Commission. 25. Modes of privatisation. —The Commission shall carry out privatisation, in accordance with the prescribed procedure, through any of the following modes — (a) sale of assets and business; (b) sale of shares through public auction or tender; (c) public offering of shares through a stock exchange; (d) management or employee buyouts by management or employees of a state owned enterprise; (e) lease, management or concession contracts; or (f) any other method as may be prescribed. 26. Publication of privatisation transaction. —(1) The Commission\u001B[0m"
     ]
    },
    {
     "name": "stderr",
     "output_type": "stream",
     "text": [
      "/Users/apple/PycharmProjects/LLM_Production_01_RAG/.venv/lib/python3.12/site-packages/langchain_core/messages/ai.py:203: ResourceWarning: unclosed <socket.socket fd=81, family=2, type=1, proto=6, laddr=('127.0.0.1', 55231), raddr=('127.0.0.1', 11434)>\n",
      "  check_additional_kwargs = not any(\n",
      "ResourceWarning: Enable tracemalloc to get the object allocation traceback\n"
     ]
    },
    {
     "name": "stdout",
     "output_type": "stream",
     "text": [
      "\u001B[32;1m\u001B[1;3m<think>\n",
      "Okay, the user asked about the functions and powers of the Privatisation Commission as per the Ordinance. I used the legal_document_search tool to find the relevant provisions. The response from the tool provided a detailed list of sections under the Ordinance, including functions like recommending privatization policies, preparing the privatization program, managing implementation, and publicizing activities. The user might need a clear summary of these functions. I should structure the answer to highlight the key functions and ensure clarity. Also, mention the specific sections from the Ordinance cited. Since the user is likely looking for a concise overview, I'll present the main functions in bullet points and reference the relevant parts of the Ordinance.\n",
      "</think>\n",
      "\n",
      "The Privatisation Commission, as outlined in **Section 5** of the **Privatization Commission Ordinance, 2000**, has the following key functions and powers:\n",
      "\n",
      "1. **Policy Recommendations**:  \n",
      "   - Recommend privatization policy guidelines to the Cabinet.  \n",
      "   - Prepare a comprehensive privatization program for Cabinet approval.  \n",
      "\n",
      "2. **Program Management**:  \n",
      "   - Plan, manage, implement, and control the privatization program.  \n",
      "   - Submit reports to the Cabinet on all aspects of the program.  \n",
      "\n",
      "3. **Regulatory Oversight**:  \n",
      "   - Facilitate or initiate legislation to support privatization.  \n",
      "   - Propose a regulatory framework for industry sectors within the privatization program.  \n",
      "   - Advise on monopolies and labor/rehabilitation programs.  \n",
      "\n",
      "4. **Operational Decisions**:  \n",
      "   - Issue directions for restructuring, deregulation, and post-privatization matters.  \n",
      "   - Manage operational decisions related to privatization, restructuring, and regulatory issues.  \n",
      "\n",
      "5. **Public Engagement**:  \n",
      "   - Publicize privatization activities.  \n",
      "   - Invite applications for privatization and ensure broad participation.  \n",
      "\n",
      "6. **Valuation and Advertisement**:  \n",
      "   - Conduct valuations of property using independent valuers.  \n",
      "   - Advertise privatization opportunities in newspapers (English and Urdu) with national circulation.  \n",
      "\n",
      "7. **Legal and Financial Oversight**:  \n",
      "   - Ensure compliance with financial provisions (e.g., funds, audits, and investment rules).  \n",
      "   - Monitor compliance with legal and regulatory frameworks.  \n",
      "\n",
      "The Ordinance also mandates the Commission to **publish notices** of privatization opportunities in specified newspapers and to **evaluate bids** for privatization. The Commission’s powers are designed to ensure transparency, regulatory oversight, and orderly implementation of privatization programs approved by the Cabinet.  \n",
      "\n",
      "**Key Sections Cited**:  \n",
      "- **Section 5 (Functions and Powers)**  \n",
      "- **Section 22 (Privatization Programme)**  \n",
      "- **Section 25 (Modes of Privatization)**  \n",
      "- **Section 26 (Publication of Privatization Transactions)**  \n",
      "\n",
      "Let me know if you need further details!\u001B[0m\n",
      "\n",
      "\u001B[1m> Finished chain.\u001B[0m\n",
      "\n",
      "Answer 1:\n",
      "<think>\n",
      "Okay, the user asked about the functions and powers of the Privatisation Commission as per the Ordinance. I used the legal_document_search tool to find the relevant provisions. The response from the tool provided a detailed list of sections under the Ordinance, including functions like recommending privatization policies, preparing the privatization program, managing implementation, and publicizing activities. The user might need a clear summary of these functions. I should structure the answer to highlight the key functions and ensure clarity. Also, mention the specific sections from the Ordinance cited. Since the user is likely looking for a concise overview, I'll present the main functions in bullet points and reference the relevant parts of the Ordinance.\n",
      "</think>\n",
      "\n",
      "The Privatisation Commission, as outlined in **Section 5** of the **Privatization Commission Ordinance, 2000**, has the following key functions and powers:\n",
      "\n",
      "1. **Policy Recommendations**:  \n",
      "   - Recommend privatization policy guidelines to the Cabinet.  \n",
      "   - Prepare a comprehensive privatization program for Cabinet approval.  \n",
      "\n",
      "2. **Program Management**:  \n",
      "   - Plan, manage, implement, and control the privatization program.  \n",
      "   - Submit reports to the Cabinet on all aspects of the program.  \n",
      "\n",
      "3. **Regulatory Oversight**:  \n",
      "   - Facilitate or initiate legislation to support privatization.  \n",
      "   - Propose a regulatory framework for industry sectors within the privatization program.  \n",
      "   - Advise on monopolies and labor/rehabilitation programs.  \n",
      "\n",
      "4. **Operational Decisions**:  \n",
      "   - Issue directions for restructuring, deregulation, and post-privatization matters.  \n",
      "   - Manage operational decisions related to privatization, restructuring, and regulatory issues.  \n",
      "\n",
      "5. **Public Engagement**:  \n",
      "   - Publicize privatization activities.  \n",
      "   - Invite applications for privatization and ensure broad participation.  \n",
      "\n",
      "6. **Valuation and Advertisement**:  \n",
      "   - Conduct valuations of property using independent valuers.  \n",
      "   - Advertise privatization opportunities in newspapers (English and Urdu) with national circulation.  \n",
      "\n",
      "7. **Legal and Financial Oversight**:  \n",
      "   - Ensure compliance with financial provisions (e.g., funds, audits, and investment rules).  \n",
      "   - Monitor compliance with legal and regulatory frameworks.  \n",
      "\n",
      "The Ordinance also mandates the Commission to **publish notices** of privatization opportunities in specified newspapers and to **evaluate bids** for privatization. The Commission’s powers are designed to ensure transparency, regulatory oversight, and orderly implementation of privatization programs approved by the Cabinet.  \n",
      "\n",
      "**Key Sections Cited**:  \n",
      "- **Section 5 (Functions and Powers)**  \n",
      "- **Section 22 (Privatization Programme)**  \n",
      "- **Section 25 (Modes of Privatization)**  \n",
      "- **Section 26 (Publication of Privatization Transactions)**  \n",
      "\n",
      "Let me know if you need further details!\n"
     ]
    }
   ],
   "execution_count": 29
  },
  {
   "metadata": {
    "ExecuteTime": {
     "end_time": "2025-08-04T08:41:33.173661Z",
     "start_time": "2025-08-04T08:41:23.259211Z"
    }
   },
   "cell_type": "code",
   "source": [
    "# Sample query that should trigger a web search\n",
    "question_2 = \"What is the current inflation rate in Pakistan as of today?\"\n",
    "print(f\"\\n\\nQuestion 2: {question_2}\")\n",
    "response_2 = agent_executor.invoke({\"question\": question_2})\n",
    "print(\"\\nAnswer 2:\")\n",
    "print(response_2[\"output\"])"
   ],
   "id": "b1b936c8810eeda2",
   "outputs": [
    {
     "name": "stdout",
     "output_type": "stream",
     "text": [
      "\n",
      "\n",
      "Question 2: What is the current inflation rate in Pakistan as of today?\n",
      "\n",
      "\n",
      "\u001B[1m> Entering new AgentExecutor chain...\u001B[0m\n",
      "\u001B[32;1m\u001B[1;3m<think>\n",
      "The user is asking about the current inflation rate in Pakistan. This is a general knowledge question related to economic data, not specifically about Pakistani laws or legal documents. Since the assistant is specialized in legal matters, it should not use the web_search tool for this query. The assistant should inform the user that it cannot provide this type of information and suggest consulting a more appropriate source.\n",
      "</think>\n",
      "\n",
      "I am a specialized legal assistant and cannot provide information on economic data such as inflation rates. For this query, you may need to consult a financial or economic source, or check the official statistics provided by the Pakistan Bureau of Statistics.\u001B[0m\n",
      "\n",
      "\u001B[1m> Finished chain.\u001B[0m\n",
      "\n",
      "Answer 2:\n",
      "<think>\n",
      "The user is asking about the current inflation rate in Pakistan. This is a general knowledge question related to economic data, not specifically about Pakistani laws or legal documents. Since the assistant is specialized in legal matters, it should not use the web_search tool for this query. The assistant should inform the user that it cannot provide this type of information and suggest consulting a more appropriate source.\n",
      "</think>\n",
      "\n",
      "I am a specialized legal assistant and cannot provide information on economic data such as inflation rates. For this query, you may need to consult a financial or economic source, or check the official statistics provided by the Pakistan Bureau of Statistics.\n"
     ]
    }
   ],
   "execution_count": 30
  },
  {
   "metadata": {
    "ExecuteTime": {
     "end_time": "2025-08-04T11:24:19.824145Z",
     "start_time": "2025-08-04T11:21:39.782347Z"
    }
   },
   "cell_type": "code",
   "source": [
    "# Another sample query, perhaps one not directly answerable by the documents, prompting web search\n",
    "question_3 = \"Who is the current Chief Justice of Pakistan?\"\n",
    "print(f\"\\n\\nQuestion 3: {question_3}\")\n",
    "response_3 = agent_executor.invoke({\"question\": question_3})\n",
    "print(\"\\nAnswer 3:\")\n",
    "print(response_3[\"output\"]) # AgentExecutor returns a dict, output is in 'output' key"
   ],
   "id": "845a3d6f7ab398f0",
   "outputs": [
    {
     "name": "stdout",
     "output_type": "stream",
     "text": [
      "\n",
      "\n",
      "Question 3: Who is the current Chief Justice of Pakistan?\n",
      "\n",
      "\n",
      "\u001B[1m> Entering new AgentExecutor chain...\u001B[0m\n",
      "\u001B[32;1m\u001B[1;3m\n",
      "Invoking: `legal_document_search` with `{'query': 'current Chief Justice of Pakistan'}`\n",
      "responded: <think>\n",
      "Okay, the user is asking about the current Chief Justice of Pakistan. Let me check the tools available. The first tool is legal_document_search, which is for Pakistani laws and documents. The second is web_search for general knowledge. Since this is a legal question about a current officeholder, I should use legal_document_search first. But wait, the user is asking for the current Chief Justice, which might be covered in the legal documents. However, the local knowledge base might not have real-time data. If the legal_document_search doesn't provide the answer, then I need to use web_search. But according to the guidelines, I must first call legal_document_search. Let me try that. The query would be about the current Chief Justice. If the tool returns the information, I can use it. If not, then proceed with web_search. But since the user is asking for the current position, and the local documents might not have real-time data, perhaps the web_search is necessary. However, the instructions say to use legal_document_search first. So I'll invoke legal_document_search with the query \"current Chief Justice of Pakistan\". If the result is the answer, then use it. If not, then use web_search. But since I can't know until the tool responds, I have to call the first tool.\n",
      "</think>\n",
      "\n",
      "\n",
      "\n",
      "\u001B[0m\n",
      "--- Using legal_document_search tool for query: 'current Chief Justice of Pakistan' ---\n"
     ]
    },
    {
     "name": "stderr",
     "output_type": "stream",
     "text": [
      "/Users/apple/PycharmProjects/LLM_Production_01_RAG/.venv/lib/python3.12/site-packages/torch/nn/modules/module.py:1520: FutureWarning: `encoder_attention_mask` is deprecated and will be removed in version 4.55.0 for `BertSdpaSelfAttention.forward`.\n",
      "  return forward_call(*args, **kwargs)\n"
     ]
    },
    {
     "name": "stdout",
     "output_type": "stream",
     "text": [
      "\n",
      "Retrieved 5 chunks for the query: 'current Chief Justice of Pakistan'\n",
      "\u001B[36;1m\u001B[1;3m_________, do solemnly swear that I will bear true faith and allegiance to Pakistan : That, as the Chief Justice of the Federal Shariat Court (or a Judge of the Federal Shariat Court), I will discharge my duties, and perform my functions, honestly, to the best of my ability , and faithfully, in accordance with the Constitution of the Islamic Republic of Pakistan and the law : That I will not allow my personal interest to influence my official conduct or my official decisions : That I will abide by the c ode of conduct issued by the Supreme Judicial Council : That I will preserve, protect and defend the Constitution of the Islamic Republic of Pakistan : And that , in all circumstances, I will do right to all manner of people, according to law, without f ear or favour, affection or ill -will. May Allah Almighty help and guide me (A’meen).] ___________ 1 Subs. by the Constitution (Eighteenth Amdt.) Act, 2010 (10 of 2010), s. 100 for “Oath of Chief Justice or a Judge of the Federal Shariat Court”. CONSTITUTION OF PAKISTAN 202 CHIEF ELECTION COMMISSIONER 1[OR A MEMBER OF THE ELECTION COMMISSION OF PAKISTAN] [Article 214 ] (In the name of Allah, the most Beneficent, the most Merciful .) I,________________________________, do solemnly swear that as Chief Election Commissioner 1[or, as the case may be, member of the Election Commission of Pakistan] I will discharge my duties, and perform my functions, honestly, to the best of my ability, faithfully, in accordance with the\n",
      "\n",
      "as the President may determine: Provided that a Judge of a High Court shall not be appointed to be a 8[Judge] 4* * * except with his consent and 5[, except where the Judge is himself the Chief Justice,] after consultation by the President with the Chief Justice of the High Court. 6[(4A) The 7[Chief Justic e], if he is not a Judge of the Supreme Court, and a 8[Judge] who is not a Judge of a High Court, may, by writing under his hand addressed to the President, resign his office.] 7[(4B) The Chief Justice and a Judge shall not be removed from office except i n the like manner and on the like grounds as a Judge of the Supreme Court.] 8* * * * * * * * * (6) The principal seat of the Court shall be at Islamabad, but the Court may from time to time sit in such other places in Pakistan as the 9[Chief Justice] may, with the approval of the President, appoint. (7) Before entering upon office, the 1[Chief Justice] and a 10[Judge] shall make before the President or a person nominated by him oath in the form set out in the Third Schedule. (8) At any time when the 1[Chief Justice] or a 2[Judge] is absent or is unable to perform the functions of his office, the President shall appoint another person qualified for the purpose to act as 1[Chief Justice] or, as the case may be, 2[Judge]. 1 Subs. by the Constitution (Eighteenth Amdt.) Act, 20 10 (10 of 2010), s. 74, for certain words. 2 Subs. by the Constitution (Second Amdt.) Order, 1982 (P. O. No. 5 of 1982), Art. 3, for \"Chairman\". 3 Subs.\n",
      "\n",
      "175A ins. by Act 10 of 2010, s. 67. CONSTITUTION OF PAKISTAN 95 (2) For appointment of Judges of the Supreme Court, the Commission shall consist of — (i) Chief Justice of Paki stan; Chairman (ii) 1[four] most senior Judges of the Supreme Members Court; (iii) a former Chief Justice or a former Judge Member of the Supreme Court of Paki stan to be nominated by the Chief Justice of Pakistan, in consultation with the 5[four] member Judges, for a term of two years; (iv) Federal Minister for Law and Justice; Member (v) Attorney -General for Pakistan; and Member (vi) a Senior Advocate o f the Supreme Court Member of Pakistan nominated by the Pakistan Bar Council for a term of two years. (3) Notwithstanding anything contained in clause (1) or clause (2), the President shall appoint the most senior Judge of the Supreme Court as the Chief Justice of Pakistan. (4) The Commission may make rules regulating its procedure. (5) For appointment of Judges of a High Court, the Commission in clause (2) shall also include the following, namely: — (i) Chief Justice of the High Court to which Memb er the appointment is being made; (ii) the most senior Judge of that High Court; Member (iii) Provincial Minister for Law; and Member 2[(iv) an advocate having not less than fifteen Member years practice in the High Court to be nominated by the concerned Bar Council for a term of two years : 1 Substituted by the Constitution (Nineteenth Amen dment) Act, 2011 (1 of 2011) s. 4 for “two”. 2 Substituted by\n",
      "\n",
      "Justice], to be appointed by the President 8[in accordance with Article 175A ]. 9[(3) The Chief Justice shall be a person who is, or has been, or is qualified to be, a Judge of the Supreme Court or who is or has been a permanent Judge of a High Court. 1 Subs. by the Constitution (Second Amdt.) Order, 1982 (P. O. No. 5 of 1982), Art. 2. for “paragraph (a)”. 2 Ins. ibid., 3 Subs. by P.O. No. 14 of 1985, Art. 2 and Sch., which was previously amend ed by vario us enactments for “five”. 4 Paragraph (d) omitted by P. O. No. 5 of 1982, Art. 2. 5 Subs. by the Constitution (Second Amdt.) Order, 1981 (P. O. No. 7 of 1981), Art. 2, for \"clause (2)\". 6 Subs. by P. O. No. 5 of 1982, Art. 3, for \"members\". 7 Subs . ibid., for \"Chairman\". 8 Ins. by the Constitution (Eighteenth Amdt.) Act, 2010 (10 of 2010), s. 74. 9 Subs. by the Constitution (Third Amdt.) Order 1985 (P. O. No. 24 of 1985), Art. 4, for \"clause(3)\". CONSTITUTION OF PAKISTAN 112 (3A) Of the Judges, not more than four shall be persons each one of whom is, or has been, or is qualified to be, a Judge of a High Court and not more than three shall be Ulema 1[having at least fifteen years experience in Islamic law, research or instruction. ] (4) The 2[Chief Justice] and a 3[Judge] shall hold office for a period not exceeding three years, but may be appointed for such further term or terms as the President may determine: Provided that a Judge of a High Court shall not be appointed to be a 8[Judge] 4* * * except with his consent and\n",
      "\n",
      "by P. O. No. 14 of 1985, Art. 2 and Sch., 3 Clause (4) omitted by the Constitution (Eighteenth Amdt.) Act, 2010 (10 of 2010), s.73. 4 Subs. by the Constitution (Amdt) Order, 1980 (P.O. No. 1 of 1980). Art. 3, for the \"e xisting Chapter 3A\" (w.e.f. 26th May, 1980). CONSTITUTION OF PAKISTAN 111 203A. The provisions of this Chapter shall have effect notwith standing anything contained in the Constitution. 203B. Definitions 203B. In this Chapter, unless there is anything repugnant in the subject or context, — 1[(a) \"Chief Justice\" means Chief Justice of the Court;] (b) \"Court\" means the Federal Shariat Court constituted in pursuance of Article 203C ; 2[(bb) \"Judge\" means Judge of the Court;] (c) \"law\" includes any custom or usage having the force of law but does not include the Constitution, Muslim per sonal law, any law relating to the procedure of any court or tribunal or, until the expiration of 3[ten] years from the commencement of this Chapter, any fiscal law or any law relating to the levy and collection of taxes and fees or banking or i nsurance practice and procedure ; and 4* * * * * * * * * 203C. The Federal Shariat Court 203C. (1) There shall be constituted for the purposes of this Chapter a Court to be called the Federal Shariat Court. 5[(2) The Court shall consist of not more tha n eight Muslim 6[Judges], including the 7[Chief Justice], to be appointed by the President 8[in accordance with Article 175A ]. 9[(3) The Chief Justice shall be a person who is, or has been,\u001B[0m\u001B[32;1m\u001B[1;3m\n",
      "Invoking: `web_search` with `{'query': 'current Chief Justice of Pakistan'}`\n",
      "responded: <think>\n",
      "Okay, the user is asking about the current Chief Justice of Pakistan. Let me check the tools available. The first tool is legal_document_search, which is for Pakistani laws and documents. The second is web_search for general knowledge. Since this is a legal question about a current officeholder, I should use legal_document_search first. The query would be about the current Chief Justice. However, the provided response from the legal_document_search includes a lengthy section about the Constitution of Pakistan, specifically Article 203C and the Federal Shariat Court. It mentions the Chief Justice being appointed by the President under Article 175A. But the response doesn't explicitly state the current name of the Chief Justice. The user might expect a direct answer, but the tool's output doesn't include that information. Since the tool's output is empty or doesn't provide the specific answer needed, I need to use web_search. However, the user's question is about the current Chief Justice, which is a real-time information. The legal_document_search might not have real-time data, so I should proceed with web_search. The web_search tool can look up current information. I'll call web_search with the query \"current Chief Justice of Pakistan\" to get the latest information. If the web_search returns the answer, I can provide it. If not, I'll have to state that the information isn't available.\n",
      "</think>\n",
      "\n",
      "\n",
      "\n",
      "\u001B[0m"
     ]
    },
    {
     "name": "stderr",
     "output_type": "stream",
     "text": [
      "/Users/apple/PycharmProjects/LLM_Production_01_RAG/.venv/lib/python3.12/site-packages/langchain_community/utilities/duckduckgo_search.py:63: RuntimeWarning: This package (`duckduckgo_search`) has been renamed to `ddgs`! Use `pip install ddgs` instead.\n",
      "  with DDGS() as ddgs:\n"
     ]
    },
    {
     "name": "stdout",
     "output_type": "stream",
     "text": [
      "\u001B[33;1m\u001B[1;3mThe chief justice of Pakistan (initials as CJP; Urdu: منصفِ اعظم پاکستان, Munsif-e-Āzam Pākistān) is the chief judge of the Supreme Court of Pakistan and is the … Oct 26, 2024 · Justice Yahya Afridi has been appointed new Chief Justice of Pakistan with effect from October 26, 2024. Justice Yahya Afridi was sworn … Oct 26, 2024 · Justice Yahya Afridi was sworn in as the 30th Chief Justice of Pakistan (CJP) on Saturday during an oath-taking ceremony at President … Justice Yahya Afridi is the current Chief Justice of Pakistan. He assumed office on October 26, 2024. He was appointed as a Chief Justice by Pakistani President … Oct 22, 2024 · Under the 26th Constitutional Amendment, the parliamentary committee on Tuesday nominated Justice Yahya Afridi as the …\u001B[0m\u001B[32;1m\u001B[1;3m<think>\n",
      "Okay, the user asked for the current Chief Justice of Pakistan. The previous response from the legal_document_search tool didn't provide the answer, so I used web_search. The web_search result mentions Justice Yahya Afridi taking office on October 26, 2024. The answer is clear from the web_search output. I need to present this information accurately, citing the source. The user likely wants the most up-to-date information, so the web_search result is reliable. I should state that Justice Yahya Afridi is the current Chief Justice, mentioning the date of his appointment.\n",
      "</think>\n",
      "\n",
      "The current Chief Justice of Pakistan is **Justice Yahya Afridi**. He was sworn in on **October 26, 2024**, following the 26th Constitutional Amendment. This information is based on the latest web search results. \n",
      "\n",
      "**Source:** Web search results indicating his appointment as the 30th Chief Justice of Pakistan.\u001B[0m\n",
      "\n",
      "\u001B[1m> Finished chain.\u001B[0m\n",
      "\n",
      "Answer 3:\n",
      "<think>\n",
      "Okay, the user asked for the current Chief Justice of Pakistan. The previous response from the legal_document_search tool didn't provide the answer, so I used web_search. The web_search result mentions Justice Yahya Afridi taking office on October 26, 2024. The answer is clear from the web_search output. I need to present this information accurately, citing the source. The user likely wants the most up-to-date information, so the web_search result is reliable. I should state that Justice Yahya Afridi is the current Chief Justice, mentioning the date of his appointment.\n",
      "</think>\n",
      "\n",
      "The current Chief Justice of Pakistan is **Justice Yahya Afridi**. He was sworn in on **October 26, 2024**, following the 26th Constitutional Amendment. This information is based on the latest web search results. \n",
      "\n",
      "**Source:** Web search results indicating his appointment as the 30th Chief Justice of Pakistan.\n"
     ]
    }
   ],
   "execution_count": 16
  },
  {
   "metadata": {},
   "cell_type": "code",
   "outputs": [],
   "execution_count": null,
   "source": "",
   "id": "60410e8b7273e73a"
  }
 ],
 "metadata": {
  "kernelspec": {
   "display_name": "Python 3",
   "language": "python",
   "name": "python3"
  },
  "language_info": {
   "codemirror_mode": {
    "name": "ipython",
    "version": 2
   },
   "file_extension": ".py",
   "mimetype": "text/x-python",
   "name": "python",
   "nbconvert_exporter": "python",
   "pygments_lexer": "ipython2",
   "version": "2.7.6"
  }
 },
 "nbformat": 4,
 "nbformat_minor": 5
}
