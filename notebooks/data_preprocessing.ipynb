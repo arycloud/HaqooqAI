{
 "cells": [
  {
   "cell_type": "code",
   "id": "initial_id",
   "metadata": {
    "collapsed": true,
    "ExecuteTime": {
     "end_time": "2025-07-27T09:17:17.191437Z",
     "start_time": "2025-07-27T09:17:16.430322Z"
    }
   },
   "source": [
    "import os\n",
    "from datasets import load_dataset\n",
    "import pandas as pd\n",
    "from tqdm import tqdm\n",
    "from langchain.text_splitter import RecursiveCharacterTextSplitter"
   ],
   "outputs": [],
   "execution_count": 80
  },
  {
   "metadata": {
    "ExecuteTime": {
     "end_time": "2025-07-27T07:35:25.525538Z",
     "start_time": "2025-07-27T07:35:25.520411Z"
    }
   },
   "cell_type": "code",
   "source": [
    "# Define the dataset name\n",
    "DATASET_NAME = \"AyeshaJadoon/Pakistan_Laws_Dataset\""
   ],
   "id": "3db07306d9ab8592",
   "outputs": [],
   "execution_count": 18
  },
  {
   "metadata": {
    "ExecuteTime": {
     "end_time": "2025-07-27T07:45:53.769196Z",
     "start_time": "2025-07-27T07:45:53.763710Z"
    }
   },
   "cell_type": "code",
   "source": [
    "def load_pak_law_data() -> pd.DataFrame:\n",
    "    \"\"\"\n",
    "    Loads the Pakistan Laws Dataset from Hugging Face (raw JSON) and returns it as a pandas DataFrame.\n",
    "    \"\"\"\n",
    "    try:\n",
    "        # Load JSON from Hugging Face manually\n",
    "        dataset = load_dataset(\n",
    "            \"json\",\n",
    "            data_files=\"https://huggingface.co/datasets/AyeshaJadoon/Pakistan_Laws_Dataset/resolve/main/pdf_data.json\",\n",
    "            split=\"train\"\n",
    "        )\n",
    "        dataframe = dataset.to_pandas()\n",
    "        print(f\"Loaded {len(dataframe)} laws from dataset.\")\n",
    "        return dataframe\n",
    "    except Exception as e:\n",
    "        print(f\"Failed to load dataset: {e}\")\n",
    "        return pd.DataFrame()"
   ],
   "id": "1e38aeea42f773be",
   "outputs": [],
   "execution_count": 30
  },
  {
   "metadata": {
    "ExecuteTime": {
     "end_time": "2025-07-27T08:12:32.145921Z",
     "start_time": "2025-07-27T08:12:30.050619Z"
    }
   },
   "cell_type": "code",
   "source": "laws_df = load_pak_law_data()",
   "id": "3687ca6a3d16db41",
   "outputs": [
    {
     "name": "stdout",
     "output_type": "stream",
     "text": [
      "Loaded 967 laws from dataset.\n"
     ]
    }
   ],
   "execution_count": 42
  },
  {
   "metadata": {
    "ExecuteTime": {
     "end_time": "2025-07-27T07:48:35.702364Z",
     "start_time": "2025-07-27T07:48:35.693612Z"
    }
   },
   "cell_type": "code",
   "source": "laws_df.head()",
   "id": "94abc76ab2bf5571",
   "outputs": [
    {
     "data": {
      "text/plain": [
       "                                           file_name  \\\n",
       "0  administrator00532129aba2e10fe634ab8fbd94c50b.pdf   \n",
       "1  administrator00607dfddff08b6d0a71b341f1667f23.pdf   \n",
       "2  administrator0088a4e5781b74cea37ea233c4a2e2c5.pdf   \n",
       "3  administrator00c80ea2ca2b4893b362c3c44bddafe2.pdf   \n",
       "4  administrator0101918a1a0e6cdb96f6e0e8f3453767.pdf   \n",
       "\n",
       "                                                text  \n",
       "0   \\nPage 1 of 19  \\n \\n \\n \\nTHE PRIVATISATION ...  \n",
       "1   \\nPage 1 of 5 \\n \\n \\n \\nTHE PAKISTAN STUDY C...  \n",
       "2  T H E   C H U R C H   O F   S C O T L A N D   ...  \n",
       "3  THE ARMED FORCES (EMERGENCY DUTIES) ACT, 1947\\...  \n",
       "4   \\nPage 1 of 3 \\n  \\n \\n \\nTHE  NET WORK  ANAL...  "
      ],
      "text/html": [
       "<div>\n",
       "<style scoped>\n",
       "    .dataframe tbody tr th:only-of-type {\n",
       "        vertical-align: middle;\n",
       "    }\n",
       "\n",
       "    .dataframe tbody tr th {\n",
       "        vertical-align: top;\n",
       "    }\n",
       "\n",
       "    .dataframe thead th {\n",
       "        text-align: right;\n",
       "    }\n",
       "</style>\n",
       "<table border=\"1\" class=\"dataframe\">\n",
       "  <thead>\n",
       "    <tr style=\"text-align: right;\">\n",
       "      <th></th>\n",
       "      <th>file_name</th>\n",
       "      <th>text</th>\n",
       "    </tr>\n",
       "  </thead>\n",
       "  <tbody>\n",
       "    <tr>\n",
       "      <th>0</th>\n",
       "      <td>administrator00532129aba2e10fe634ab8fbd94c50b.pdf</td>\n",
       "      <td>\\nPage 1 of 19  \\n \\n \\n \\nTHE PRIVATISATION ...</td>\n",
       "    </tr>\n",
       "    <tr>\n",
       "      <th>1</th>\n",
       "      <td>administrator00607dfddff08b6d0a71b341f1667f23.pdf</td>\n",
       "      <td>\\nPage 1 of 5 \\n \\n \\n \\nTHE PAKISTAN STUDY C...</td>\n",
       "    </tr>\n",
       "    <tr>\n",
       "      <th>2</th>\n",
       "      <td>administrator0088a4e5781b74cea37ea233c4a2e2c5.pdf</td>\n",
       "      <td>T H E   C H U R C H   O F   S C O T L A N D   ...</td>\n",
       "    </tr>\n",
       "    <tr>\n",
       "      <th>3</th>\n",
       "      <td>administrator00c80ea2ca2b4893b362c3c44bddafe2.pdf</td>\n",
       "      <td>THE ARMED FORCES (EMERGENCY DUTIES) ACT, 1947\\...</td>\n",
       "    </tr>\n",
       "    <tr>\n",
       "      <th>4</th>\n",
       "      <td>administrator0101918a1a0e6cdb96f6e0e8f3453767.pdf</td>\n",
       "      <td>\\nPage 1 of 3 \\n  \\n \\n \\nTHE  NET WORK  ANAL...</td>\n",
       "    </tr>\n",
       "  </tbody>\n",
       "</table>\n",
       "</div>"
      ]
     },
     "execution_count": 34,
     "metadata": {},
     "output_type": "execute_result"
    }
   ],
   "execution_count": 34
  },
  {
   "metadata": {
    "ExecuteTime": {
     "end_time": "2025-07-27T08:40:01.531391Z",
     "start_time": "2025-07-27T08:40:01.020001Z"
    }
   },
   "cell_type": "code",
   "source": [
    "# --- Column Renaming (THIS IS THE NEW/MODIFIED PART) ---\n",
    "# Check and rename 'file_name' to 'File Name'\n",
    "if 'file_name' in laws_df.columns and 'File Name' not in laws_df.columns:\n",
    "    laws_df.rename(columns={'file_name': 'File Name'}, inplace=True)\n",
    "    print(\"Renamed 'file_name' to 'File Name'.\")\n",
    "\n",
    "# Check and rename 'text' to 'Content'\n",
    "if 'text' in laws_df.columns and 'Content' not in laws_df.columns:\n",
    "    laws_df.rename(columns={'text': 'Content'}, inplace=True)\n",
    "    print(\"Renamed 'text' to 'Content'.\")\n",
    "elif 'text' in laws_df.columns and 'Content' in laws_df.columns:\n",
    "    # This case handles if some rows have 'text' and some have 'content' originally\n",
    "    # Consolidate 'text' into 'Content' where 'Content' might be NaN\n",
    "    print(\"Both 'text' and 'Content' columns found. Consolidating 'text' into 'Content'...\")\n",
    "    laws_df['Content'] = laws_df['Content'].fillna(laws_df['text'])\n",
    "    laws_df.drop(columns=['text'], inplace=True) # Remove the redundant 'text' column\n",
    "    print(\"Consolidation complete and 'text' column dropped.\")\n",
    "\n",
    "# --- End Column Renaming ---\n",
    "\n",
    "print(\"\\nDataFrame columns after potential renaming:\", laws_df.columns.tolist())\n",
    "print(\"\\nDataFrame head after potential renaming:\")\n",
    "print(laws_df.head())\n",
    "\n",
    "\n",
    "# Check for missing values (should ideally be 0 in 'Content' after main.py's robust load)\n",
    "print(\"\\nMissing values in 'Content' column:\", laws_df['Content'].isnull().sum())\n",
    "\n",
    "# Drop rows where 'Content' is NaN or empty string (safety measure)\n",
    "initial_rows_count = len(laws_df)\n",
    "laws_df.dropna(subset=['Content'], inplace=True)\n",
    "laws_df = laws_df[laws_df['Content'].astype(str).str.strip() != '']\n",
    "rows_after_initial_cleaning = len(laws_df)\n",
    "if initial_rows_count - rows_after_initial_cleaning > 0:\n",
    "    print(f\"Removed {initial_rows_count - rows_after_initial_cleaning} rows with empty or missing content after initial check.\")\n",
    "\n",
    "# Get statistics on content length\n",
    "if not laws_df.empty:\n",
    "    content_lengths = laws_df['Content'].apply(len)\n",
    "    print(f\"\\nContent Length Statistics (before detailed cleaning):\")\n",
    "    print(content_lengths.describe())\n",
    "\n",
    "    # Inspect a random entry to understand raw text structure\n",
    "    print(\"\\n--- Example of a law's content before detailed cleaning ---\")\n",
    "    random_law = laws_df.sample(1)\n",
    "    print(f\"File Name: {random_law['File Name'].iloc[0]}\")\n",
    "    print(\"First 1000 characters:\\n\")\n",
    "    print(random_law['Content'].iloc[0][:1000])\n",
    "    print(\"\\n...\")"
   ],
   "id": "18eb86754a14074a",
   "outputs": [
    {
     "name": "stdout",
     "output_type": "stream",
     "text": [
      "\n",
      "DataFrame columns after potential renaming: ['File Name', 'Content', 'Cleaned_Content', 'Sections']\n",
      "\n",
      "DataFrame head after potential renaming:\n",
      "                                           File Name  \\\n",
      "0  administrator00532129aba2e10fe634ab8fbd94c50b.pdf   \n",
      "1  administrator00607dfddff08b6d0a71b341f1667f23.pdf   \n",
      "2  administrator0088a4e5781b74cea37ea233c4a2e2c5.pdf   \n",
      "3  administrator00c80ea2ca2b4893b362c3c44bddafe2.pdf   \n",
      "4  administrator0101918a1a0e6cdb96f6e0e8f3453767.pdf   \n",
      "\n",
      "                                             Content  \\\n",
      "0   \\nPage 1 of 19  \\n \\n \\n \\nTHE PRIVATISATION ...   \n",
      "1   \\nPage 1 of 5 \\n \\n \\n \\nTHE PAKISTAN STUDY C...   \n",
      "2  T H E   C H U R C H   O F   S C O T L A N D   ...   \n",
      "3  THE ARMED FORCES (EMERGENCY DUTIES) ACT, 1947\\...   \n",
      "4   \\nPage 1 of 3 \\n  \\n \\n \\nTHE  NET WORK  ANAL...   \n",
      "\n",
      "                                     Cleaned_Content Sections  \n",
      "0  [(1., 1. Short title, extent and commencement....       []  \n",
      "1  [(1976., 1976. 1ACT No. XXVII OF 1976 [11th Ma...       []  \n",
      "2                                                 []       []  \n",
      "3  [(1947., 1947. 1ACT No. XV OF 1947 [20th March...       []  \n",
      "4  [(1., 1. Short title and commencement), (2., 2...       []  \n",
      "\n",
      "Missing values in 'Content' column: 0\n",
      "\n",
      "Content Length Statistics (before detailed cleaning):\n",
      "count    9.670000e+02\n",
      "mean     4.541120e+04\n",
      "std      1.409913e+05\n",
      "min      2.800000e+01\n",
      "25%      7.086000e+03\n",
      "50%      1.763700e+04\n",
      "75%      3.981000e+04\n",
      "max      2.578313e+06\n",
      "Name: Content, dtype: float64\n",
      "\n",
      "--- Example of a law's content before detailed cleaning ---\n",
      "File Name: administrator986714d01c721676f2acfc816b18fc6a.pdf\n",
      "First 1000 characters:\n",
      "\n",
      " \n",
      "Page 1 of 4 \n",
      "  \n",
      " \n",
      " \n",
      " \n",
      " \n",
      " \n",
      "THE EXECUTION OF THE PUNISHMENT OF WHIPPING \n",
      "ORDINANCE, 1979  \n",
      " \n",
      " \n",
      " \n",
      " \n",
      "                             \n",
      " \n",
      " \n",
      " \n",
      " \n",
      "CONTENTS  \n",
      " \n",
      "1.  Short title, exten t, application and commencement  \n",
      "2. Definitions  \n",
      "3. Ordinance to override other laws  \n",
      "4. Specifications of whip  \n",
      "5. The conditio ns and mode of execution of punishment of whipping  \n",
      "6.  Custody of convict pendi ng execution of punishment, etc . \n",
      "7. Power to make rules  \n",
      " \n",
      " \n",
      " \n",
      " \n",
      " \n",
      " \n",
      " \n",
      " \n",
      " \n",
      " \n",
      " \n",
      " \n",
      " \n",
      " \n",
      "Page 2 of 4 \n",
      " THE EXECUTION OF THE PUNISHMENT OF WHIPPING ORDINANCE, \n",
      "1979  \n",
      "1ORDINANCE NO. IX OF 1979  \n",
      "[10th February, 1979]  \n",
      " \n",
      "An Ordinance to make provision relating to the execution of the punishment of whipping.  \n",
      " \n",
      "WHEREAS  it is expedient to make provision relating to the executio n of the punishment of \n",
      "whipping;  \n",
      " \n",
      "AND WHEREAS  the President is satisfied that circumstances exist wh ich render it necessary \n",
      "to take immediate action;  \n",
      " \n",
      "NOW THEREFORE , in pursuance of the Proclamation of the fifth day of Jul\n",
      "\n",
      "...\n"
     ]
    }
   ],
   "execution_count": 60
  },
  {
   "metadata": {
    "ExecuteTime": {
     "end_time": "2025-07-27T08:40:02.576799Z",
     "start_time": "2025-07-27T08:40:02.494063Z"
    }
   },
   "cell_type": "code",
   "source": "laws_df",
   "id": "a418faed48a20c7c",
   "outputs": [
    {
     "data": {
      "text/plain": [
       "                                             File Name  \\\n",
       "0    administrator00532129aba2e10fe634ab8fbd94c50b.pdf   \n",
       "1    administrator00607dfddff08b6d0a71b341f1667f23.pdf   \n",
       "2    administrator0088a4e5781b74cea37ea233c4a2e2c5.pdf   \n",
       "3    administrator00c80ea2ca2b4893b362c3c44bddafe2.pdf   \n",
       "4    administrator0101918a1a0e6cdb96f6e0e8f3453767.pdf   \n",
       "..                                                 ...   \n",
       "962                      THE POST OFFICE ACT, 1898.pdf   \n",
       "963              THE REFORMATORY SCHOOLS ACT, 1897.pdf   \n",
       "964   THE RIGHT OF ACCESS TO INFORMATION ACT, 2017.pdf   \n",
       "965                         war injuries ordinance.pdf   \n",
       "966  WEST PAKISTAN SHOPS AND ESTABLISHMENTS ORDINAN...   \n",
       "\n",
       "                                               Content  \\\n",
       "0     \\nPage 1 of 19  \\n \\n \\n \\nTHE PRIVATISATION ...   \n",
       "1     \\nPage 1 of 5 \\n \\n \\n \\nTHE PAKISTAN STUDY C...   \n",
       "2    T H E   C H U R C H   O F   S C O T L A N D   ...   \n",
       "3    THE ARMED FORCES (EMERGENCY DUTIES) ACT, 1947\\...   \n",
       "4     \\nPage 1 of 3 \\n  \\n \\n \\nTHE  NET WORK  ANAL...   \n",
       "..                                                 ...   \n",
       "962   \\n \\n \\n \\nTHE POST OFFICE ACT, 1898  \\n \\n \\...   \n",
       "963  THE REFORMATORY SCHOOLS ACT, 1897\\nCONTENTS\\nS...   \n",
       "964   \\nPage 1 of 14 \\n  \\n \\n \\n \\n \\nTHE RIGHT OF...   \n",
       "965  THE WAR INJURIES ORDINANCE, 1941\\nCONTENTS\\n1 ...   \n",
       "966   \\n \\n \\n \\nTHE WEST PAKISTAN SHOPS AND ESTABL...   \n",
       "\n",
       "                                       Cleaned_Content Sections  \n",
       "0    [(1., 1. Short title, extent and commencement....       []  \n",
       "1    [(1976., 1976. 1ACT No. XXVII OF 1976 [11th Ma...       []  \n",
       "2                                                   []       []  \n",
       "3    [(1947., 1947. 1ACT No. XV OF 1947 [20th March...       []  \n",
       "4    [(1., 1. Short title and commencement), (2., 2...       []  \n",
       "..                                                 ...      ...  \n",
       "962  [(1., 1. Short title, extent, application and ...       []  \n",
       "963  [(1., 1. Title an extent.__( 1 ) T h i s A c t...       []  \n",
       "964  [(1., 1. Short title, application and commence...       []  \n",
       "965  [(1., 1. Short title, extent and commencement....       []  \n",
       "966  [(1969., 1969. (W.P. Ord. VIII of 1969) C O N ...       []  \n",
       "\n",
       "[967 rows x 4 columns]"
      ],
      "text/html": [
       "<div>\n",
       "<style scoped>\n",
       "    .dataframe tbody tr th:only-of-type {\n",
       "        vertical-align: middle;\n",
       "    }\n",
       "\n",
       "    .dataframe tbody tr th {\n",
       "        vertical-align: top;\n",
       "    }\n",
       "\n",
       "    .dataframe thead th {\n",
       "        text-align: right;\n",
       "    }\n",
       "</style>\n",
       "<table border=\"1\" class=\"dataframe\">\n",
       "  <thead>\n",
       "    <tr style=\"text-align: right;\">\n",
       "      <th></th>\n",
       "      <th>File Name</th>\n",
       "      <th>Content</th>\n",
       "      <th>Cleaned_Content</th>\n",
       "      <th>Sections</th>\n",
       "    </tr>\n",
       "  </thead>\n",
       "  <tbody>\n",
       "    <tr>\n",
       "      <th>0</th>\n",
       "      <td>administrator00532129aba2e10fe634ab8fbd94c50b.pdf</td>\n",
       "      <td>\\nPage 1 of 19  \\n \\n \\n \\nTHE PRIVATISATION ...</td>\n",
       "      <td>[(1., 1. Short title, extent and commencement....</td>\n",
       "      <td>[]</td>\n",
       "    </tr>\n",
       "    <tr>\n",
       "      <th>1</th>\n",
       "      <td>administrator00607dfddff08b6d0a71b341f1667f23.pdf</td>\n",
       "      <td>\\nPage 1 of 5 \\n \\n \\n \\nTHE PAKISTAN STUDY C...</td>\n",
       "      <td>[(1976., 1976. 1ACT No. XXVII OF 1976 [11th Ma...</td>\n",
       "      <td>[]</td>\n",
       "    </tr>\n",
       "    <tr>\n",
       "      <th>2</th>\n",
       "      <td>administrator0088a4e5781b74cea37ea233c4a2e2c5.pdf</td>\n",
       "      <td>T H E   C H U R C H   O F   S C O T L A N D   ...</td>\n",
       "      <td>[]</td>\n",
       "      <td>[]</td>\n",
       "    </tr>\n",
       "    <tr>\n",
       "      <th>3</th>\n",
       "      <td>administrator00c80ea2ca2b4893b362c3c44bddafe2.pdf</td>\n",
       "      <td>THE ARMED FORCES (EMERGENCY DUTIES) ACT, 1947\\...</td>\n",
       "      <td>[(1947., 1947. 1ACT No. XV OF 1947 [20th March...</td>\n",
       "      <td>[]</td>\n",
       "    </tr>\n",
       "    <tr>\n",
       "      <th>4</th>\n",
       "      <td>administrator0101918a1a0e6cdb96f6e0e8f3453767.pdf</td>\n",
       "      <td>\\nPage 1 of 3 \\n  \\n \\n \\nTHE  NET WORK  ANAL...</td>\n",
       "      <td>[(1., 1. Short title and commencement), (2., 2...</td>\n",
       "      <td>[]</td>\n",
       "    </tr>\n",
       "    <tr>\n",
       "      <th>...</th>\n",
       "      <td>...</td>\n",
       "      <td>...</td>\n",
       "      <td>...</td>\n",
       "      <td>...</td>\n",
       "    </tr>\n",
       "    <tr>\n",
       "      <th>962</th>\n",
       "      <td>THE POST OFFICE ACT, 1898.pdf</td>\n",
       "      <td>\\n \\n \\n \\nTHE POST OFFICE ACT, 1898  \\n \\n \\...</td>\n",
       "      <td>[(1., 1. Short title, extent, application and ...</td>\n",
       "      <td>[]</td>\n",
       "    </tr>\n",
       "    <tr>\n",
       "      <th>963</th>\n",
       "      <td>THE REFORMATORY SCHOOLS ACT, 1897.pdf</td>\n",
       "      <td>THE REFORMATORY SCHOOLS ACT, 1897\\nCONTENTS\\nS...</td>\n",
       "      <td>[(1., 1. Title an extent.__( 1 ) T h i s A c t...</td>\n",
       "      <td>[]</td>\n",
       "    </tr>\n",
       "    <tr>\n",
       "      <th>964</th>\n",
       "      <td>THE RIGHT OF ACCESS TO INFORMATION ACT, 2017.pdf</td>\n",
       "      <td>\\nPage 1 of 14 \\n  \\n \\n \\n \\n \\nTHE RIGHT OF...</td>\n",
       "      <td>[(1., 1. Short title, application and commence...</td>\n",
       "      <td>[]</td>\n",
       "    </tr>\n",
       "    <tr>\n",
       "      <th>965</th>\n",
       "      <td>war injuries ordinance.pdf</td>\n",
       "      <td>THE WAR INJURIES ORDINANCE, 1941\\nCONTENTS\\n1 ...</td>\n",
       "      <td>[(1., 1. Short title, extent and commencement....</td>\n",
       "      <td>[]</td>\n",
       "    </tr>\n",
       "    <tr>\n",
       "      <th>966</th>\n",
       "      <td>WEST PAKISTAN SHOPS AND ESTABLISHMENTS ORDINAN...</td>\n",
       "      <td>\\n \\n \\n \\nTHE WEST PAKISTAN SHOPS AND ESTABL...</td>\n",
       "      <td>[(1969., 1969. (W.P. Ord. VIII of 1969) C O N ...</td>\n",
       "      <td>[]</td>\n",
       "    </tr>\n",
       "  </tbody>\n",
       "</table>\n",
       "<p>967 rows × 4 columns</p>\n",
       "</div>"
      ]
     },
     "execution_count": 61,
     "metadata": {},
     "output_type": "execute_result"
    }
   ],
   "execution_count": 61
  },
  {
   "metadata": {
    "ExecuteTime": {
     "end_time": "2025-07-27T08:40:07.203844Z",
     "start_time": "2025-07-27T08:40:04.108769Z"
    }
   },
   "cell_type": "code",
   "source": "laws_df.to_csv('pakistan_laws_raw.csv', index=False)\n",
   "id": "112dd5a6d00edb1e",
   "outputs": [],
   "execution_count": 62
  },
  {
   "metadata": {
    "ExecuteTime": {
     "end_time": "2025-07-27T08:40:08.682339Z",
     "start_time": "2025-07-27T08:40:08.677656Z"
    }
   },
   "cell_type": "code",
   "source": [
    "import re\n",
    "def clean_text(text: str) -> str:\n",
    "    \"\"\"\n",
    "    Performs detailed cleaning on legal text.\n",
    "    - Normalizes whitespace.\n",
    "    - Removes common page headers/footers (e.g., \"Page X of Y\", \"Updated till date\").\n",
    "    - Removes typical \"CONTENTS\" sections at the start of documents.\n",
    "    - Can be extended for more specific legal document noise.\n",
    "    \"\"\"\n",
    "    \n",
    "    if not isinstance(text, str):\n",
    "        return \"\"\n",
    "    # Normalize unicode dashes, quotes, etc. (optional for legal text)\n",
    "    text = text.replace(\"\\xa0\", \" \").replace(\"­\", \"\")  # remove non-breaking spaces and soft hyphens\n",
    "\n",
    "    # Remove common page artifacts\n",
    "    text = re.sub(r\"(?i)Page \\d+ of \\d+\", \" \", text)\n",
    "    text = re.sub(r\"(?i)Updated till \\d{1,2}\\.\\d{1,2}\\.\\d{4}\", \" \", text)\n",
    "\n",
    "    # Remove 'CONTENTS' section (basic version)\n",
    "    text = re.sub(r'(?i)\\bCONTENTS\\b.*?(?=(PART|CHAPTER|\\d+\\.?\\s+[A-Z]))', '', text, flags=re.DOTALL)\n",
    "\n",
    "    # Collapse multiple whitespaces and newlines\n",
    "    text = re.sub(r'\\s+', ' ', text)\n",
    "\n",
    "    return text.strip()"
   ],
   "id": "bc04c68594c7f5fc",
   "outputs": [],
   "execution_count": 63
  },
  {
   "metadata": {
    "ExecuteTime": {
     "end_time": "2025-07-27T08:40:14.443237Z",
     "start_time": "2025-07-27T08:40:09.645634Z"
    }
   },
   "cell_type": "code",
   "source": [
    "tqdm.pandas(desc=\"Apply text cleaning to the content\")\n",
    "laws_df['Cleaned_Content'] = laws_df['Content'].progress_apply(clean_text)\n"
   ],
   "id": "21678c4981d24be2",
   "outputs": [
    {
     "name": "stderr",
     "output_type": "stream",
     "text": [
      "Apply text cleaning to the content: 100%|██████████| 967/967 [00:04<00:00, 201.92it/s]\n"
     ]
    }
   ],
   "execution_count": 64
  },
  {
   "metadata": {
    "ExecuteTime": {
     "end_time": "2025-07-27T08:40:16.513951Z",
     "start_time": "2025-07-27T08:40:16.507112Z"
    }
   },
   "cell_type": "code",
   "source": [
    "print(\"\\n--- Example of cleaned content ---\")\n",
    "random_cleaned_law = laws_df.sample(1)\n",
    "print(f\"File Name: {random_cleaned_law['File Name'].iloc[0]}\")\n",
    "print(\"First 1000 characters:\\n\")\n",
    "print(random_cleaned_law['Cleaned_Content'].iloc[0][:1000])\n",
    "print(\"\\n...\")\n",
    "\n",
    "print(\"First 1000 characters of Non-cleaned content:\\n\")\n",
    "print(random_cleaned_law['Content'].iloc[0][:1000])\n",
    "print(\"\\n...\")"
   ],
   "id": "2df569383e7bda87",
   "outputs": [
    {
     "name": "stdout",
     "output_type": "stream",
     "text": [
      "\n",
      "--- Example of cleaned content ---\n",
      "File Name: administrator1463abd05c24327d721e8d0ffa274514.pdf\n",
      "First 1000 characters:\n",
      "\n",
      "THE WEST PAKISTAN PROHIBITION OF SMOKING IN CINEMA HOUSES (REPEAL) ACT, 2019 1. Short title, and commencement. 2. Repeal. THEWEST PAKISTAN PROHIBITION OF SMOKING IN CINEMA HOUSES (REPEAL) ACT, 2019 ACT NO. I OF 2019 [6 th February, 2019] AN ACT to repeal the West Pakistan Prohibition of S moking in Cinema Houses Ordinance, 1960 to the extent of Islamabad Capital Territory. WHEREAS it is expedient to repeal the West Pakistan Prohibition of Smoking in Cinema Houses Ordinance, 1960 (Ordinance No. IV of 1960) t o the extent of Islamabad Capital Territory; It is hereby enacted as follows: — 1. Short title, and commencement. — (1) This Act may be called the West Pakistan Prohibition of Smoking in Cinema Houses (Repeal) Ac t, 2019. (2) It shall come into force at once in its applica bility to the extent of Islamabad Capital Territory. 2. Repeal. — The West Pakistan Prohibition of Smoking in Cine ma Houses Ordinance, l960 (Ordinance No. IV of 1960) is hereb y repealed.\n",
      "\n",
      "...\n",
      "First 1000 characters of Non-cleaned content:\n",
      "\n",
      " \n",
      "Page 1 of 2 \n",
      "  \n",
      " \n",
      " \n",
      " \n",
      " THE WEST PAKISTAN PROHIBITION OF SMOKING IN \n",
      "CINEMA HOUSES (REPEAL) ACT, 2019 \n",
      " \n",
      " \n",
      " \n",
      "CONTENTS \n",
      " \n",
      " \n",
      " \n",
      "CONTENTS \n",
      "1. Short title, and commencement. \n",
      "2. Repeal. \n",
      "   \n",
      " \n",
      "Page 2 of 2 \n",
      " THEWEST PAKISTAN PROHIBITION OF SMOKING IN CINEMA \n",
      "HOUSES (REPEAL) ACT, 2019 \n",
      "ACT NO. I OF 2019 \n",
      "[6 th  February, 2019] \n",
      "AN ACT to repeal the West Pakistan Prohibition of S moking in Cinema Houses Ordinance, 1960 \n",
      "to the extent of Islamabad Capital Territory. \n",
      "WHEREAS it is expedient to repeal the West Pakistan  Prohibition of Smoking in Cinema \n",
      "Houses Ordinance, 1960 (Ordinance No. IV of 1960) t o the extent of Islamabad Capital Territory; \n",
      "It is hereby enacted as follows: — \n",
      "1. Short title, and commencement.  — (1) This Act may be called the West Pakistan \n",
      "Prohibition of Smoking in Cinema Houses (Repeal) Ac t, 2019. \n",
      "(2) It shall come into force at once in its applica bility to the extent of Islamabad Capital \n",
      "Territory. \n",
      "2. Repeal.  — The West Pakistan Prohibition of Smoking in Cine \n",
      "\n",
      "...\n"
     ]
    }
   ],
   "execution_count": 65
  },
  {
   "metadata": {},
   "cell_type": "markdown",
   "source": "# Splitting on top of Sections for chunking",
   "id": "2073034c72f596"
  },
  {
   "metadata": {
    "ExecuteTime": {
     "end_time": "2025-07-27T09:01:32.083912Z",
     "start_time": "2025-07-27T09:01:32.009864Z"
    }
   },
   "cell_type": "code",
   "source": [
    "import re\n",
    "\n",
    "def extract_semantic_sections(text: str, file_name: str) -> list[dict]:\n",
    "    \"\"\"\n",
    "    Extracts semantic sections (Parts, Chapters, numbered Sections/Articles) from legal text.\n",
    "    It attempts to capture the section heading and the content belonging to it.\n",
    "    \"\"\"\n",
    "    sections_list = []\n",
    "    \n",
    "    # Regex to identify potential section headers.\n",
    "    # (?m) makes '^' and '$' match at the start/end of each line, not just the string.\n",
    "    # | (OR) combines multiple patterns.\n",
    "    # We are looking for lines that start with:\n",
    "    # 1. PART followed by Roman numerals (e.g., \"PART I.—GENERAL\")\n",
    "    # 2. CHAPTER followed by Roman numerals (e.g., \"CHAPTER II.\")\n",
    "    # 3. An Arabic numeral followed by a dot and space (e.g., \"1. Short title, extent and commencement.\")\n",
    "    # The [A-Z].* ensures it's likely a title and not just a random number.\n",
    "    section_header_pattern = re.compile(\n",
    "        r\"^(PART\\s+[IVXLCDM]+\\.?—?.*?$|\"  # Matches PART headings\n",
    "        r\"^CHAPTER\\s+[IVXLCDM]+\\.?—?.*?$|\" # Matches CHAPTER headings\n",
    "        r\"^\\d+\\.\\s+[A-Z].*?$) \",        # Matches numbered sections/articles (e.g., \"1. Short title...\")\n",
    "        re.MULTILINE | re.IGNORECASE\n",
    "    )\n",
    "\n",
    "    # Split the text by the identified section headers, keeping the headers themselves.\n",
    "    # re.split creates a list where odd indices are delimiters and even indices are content.\n",
    "    split_content = section_header_pattern.split(text)\n",
    "\n",
    "    # The first element might be preamble content if no header is at the very beginning.\n",
    "    preamble_content = split_content[0].strip()\n",
    "    if preamble_content:\n",
    "        sections_list.append({\n",
    "            \"source_file\": file_name,\n",
    "            \"section_title\": \"Preamble/Introduction\",\n",
    "            \"section_content\": preamble_content,\n",
    "            \"section_type\": \"semantic_preamble\"\n",
    "        })\n",
    "\n",
    "    # Iterate through the split content to associate headers with their content\n",
    "    # The split creates: [preamble, header1, content1, header2, content2, ...]\n",
    "    for i in range(1, len(split_content), 2):\n",
    "        header = split_content[i]\n",
    "        content = split_content[i+1] if (i+1) < len(split_content) else \"\" # Handle last section\n",
    "\n",
    "        if header and content.strip():\n",
    "            sections_list.append({\n",
    "                \"source_file\": file_name,\n",
    "                \"section_title\": header.strip(),\n",
    "                \"section_content\": content.strip(),\n",
    "                \"section_type\": \"semantic_section\"\n",
    "            })\n",
    "        elif header: # Handle cases where a header might have no immediate content (e.g., followed by another header)\n",
    "            sections_list.append({\n",
    "                \"source_file\": file_name,\n",
    "                \"section_title\": header.strip(),\n",
    "                \"section_content\": \"\", # Empty content for now, might be absorbed into next\n",
    "                \"section_type\": \"semantic_section_header_only\"\n",
    "            })\n",
    "\n",
    "    return sections_list"
   ],
   "id": "6fb5d112c9c4c1b3",
   "outputs": [],
   "execution_count": 73
  },
  {
   "metadata": {
    "ExecuteTime": {
     "end_time": "2025-07-27T09:03:32.757273Z",
     "start_time": "2025-07-27T09:03:30.674070Z"
    }
   },
   "cell_type": "code",
   "source": [
    "# Apply semantic section extraction\n",
    "all_semantic_sections = []\n",
    "if not laws_df.empty:\n",
    "    print(\"\\nExtracting semantic sections from cleaned content...\")\n",
    "    for index, row in tqdm(laws_df.iterrows(), total=len(laws_df), desc=\"Extracting sections\"):\n",
    "        file_name = row['File Name']\n",
    "        cleaned_content = row['Cleaned_Content']\n",
    "        \n",
    "        extracted_sections = extract_semantic_sections(cleaned_content, file_name)\n",
    "        all_semantic_sections.extend(extracted_sections)\n"
   ],
   "id": "ff9aa3b7d69544cd",
   "outputs": [
    {
     "name": "stdout",
     "output_type": "stream",
     "text": [
      "\n",
      "Extracting semantic sections from cleaned content...\n"
     ]
    },
    {
     "name": "stderr",
     "output_type": "stream",
     "text": [
      "Extracting sections: 100%|██████████| 967/967 [00:02<00:00, 480.92it/s]\n"
     ]
    }
   ],
   "execution_count": 76
  },
  {
   "metadata": {
    "ExecuteTime": {
     "end_time": "2025-07-27T09:08:36.056516Z",
     "start_time": "2025-07-27T09:08:34.261127Z"
    }
   },
   "cell_type": "code",
   "source": [
    "# Create a new DataFrame for semantic sections\n",
    "semantic_sections_df = pd.DataFrame(all_semantic_sections)\n",
    "semantic_sections_df.to_csv('pakistan_laws_semantic_sections.csv', index=False)\n",
    "print(f\"\\nGenerated {len(semantic_sections_df)} semantic sections.\")\n",
    "print(\"\\nFirst 5 semantic sections:\")\n",
    "print(semantic_sections_df.head())"
   ],
   "id": "f0c3f4f9739dba22",
   "outputs": [
    {
     "name": "stdout",
     "output_type": "stream",
     "text": [
      "\n",
      "Generated 967 semantic sections.\n",
      "\n",
      "First 5 semantic sections:\n",
      "                                         source_file          section_title  \\\n",
      "0  administrator00532129aba2e10fe634ab8fbd94c50b.pdf  Preamble/Introduction   \n",
      "1  administrator00607dfddff08b6d0a71b341f1667f23.pdf  Preamble/Introduction   \n",
      "2  administrator0088a4e5781b74cea37ea233c4a2e2c5.pdf  Preamble/Introduction   \n",
      "3  administrator00c80ea2ca2b4893b362c3c44bddafe2.pdf  Preamble/Introduction   \n",
      "4  administrator0101918a1a0e6cdb96f6e0e8f3453767.pdf  Preamble/Introduction   \n",
      "\n",
      "                                     section_content       section_type  \n",
      "0  THE PRIVATISATION COMMISSION ORDINANCE, 2000 P...  semantic_preamble  \n",
      "1  THE PAKISTAN STUDY CENTRES, ACT 1976 1 Short t...  semantic_preamble  \n",
      "2  T H E C H U R C H O F S C O T L A N D K I R K ...  semantic_preamble  \n",
      "3  THE ARMED FORCES (EMERGENCY DUTIES) ACT, 1947 ...  semantic_preamble  \n",
      "4  THE NET WORK ANALYSE R STUDY CENTRE (TRANSFER ...  semantic_preamble  \n"
     ]
    }
   ],
   "execution_count": 79
  },
  {
   "metadata": {
    "ExecuteTime": {
     "end_time": "2025-07-27T09:23:38.938815Z",
     "start_time": "2025-07-27T09:23:38.881335Z"
    }
   },
   "cell_type": "code",
   "source": [
    "if not semantic_sections_df.empty:\n",
    "    print(f\"\\nSemantic Section Content Length Statistics:\")\n",
    "    print(semantic_sections_df['section_content'].apply(len).describe())\n",
    "\n",
    "    # Example of a random extracted section\n",
    "    print(\"\\n--- Example of a random extracted semantic section ---\")\n",
    "    random_section = semantic_sections_df.sample(1)\n",
    "    print(random_section)\n",
    "    print(f\"Source File: {random_section['source_file'].iloc[0]}\")\n",
    "    print(f\"Section Title: {random_section['section_title'].iloc[0]}\")\n",
    "    print(f\"Section Content (first 500 chars):\\n{random_section['section_content'].iloc[0][:500]}\\n...\")"
   ],
   "id": "c94ee2d6867e66e5",
   "outputs": [
    {
     "name": "stdout",
     "output_type": "stream",
     "text": [
      "\n",
      "Semantic Section Content Length Statistics:\n",
      "count    9.670000e+02\n",
      "mean     4.148464e+04\n",
      "std      1.254601e+05\n",
      "min      2.600000e+01\n",
      "25%      6.610000e+03\n",
      "50%      1.656400e+04\n",
      "75%      3.656950e+04\n",
      "max      2.395050e+06\n",
      "Name: section_content, dtype: float64\n",
      "\n",
      "--- Example of a random extracted semantic section ---\n",
      "                                          source_file          section_title  \\\n",
      "64  administrator0cb12b901d4304d7e5463da076d88639 ...  Preamble/Introduction   \n",
      "\n",
      "                                      section_content       section_type  \n",
      "64  THE CHILD MARRIAGE RESTRAINT ACT, 1929 1 Short...  semantic_preamble  \n",
      "Source File: administrator0cb12b901d4304d7e5463da076d88639 (1).pdf\n",
      "Section Title: Preamble/Introduction\n",
      "Section Content (first 500 chars):\n",
      "THE CHILD MARRIAGE RESTRAINT ACT, 1929 1 Short title, extent and commencement 2 Definitions 3 [Omitted] 4 Punishment for male adult above twentyone years of age marrying a child 5 Punishment for solemnising a child marriage 6 Punishment for parent or guardian concerned in a child marriage. 7 Imprisonment not to be awarded for offences under section 3 8 Jurisdiction under this Act 9 Mode of taking cognizance of offences 10 Preliminary inquiries into offences under this Act 11 [Omitted] 12 Power t\n",
      "...\n"
     ]
    }
   ],
   "execution_count": 82
  },
  {
   "metadata": {},
   "cell_type": "markdown",
   "source": "## Chunking ",
   "id": "33f7c0032e31beee"
  },
  {
   "metadata": {
    "ExecuteTime": {
     "end_time": "2025-07-27T09:25:50.724540Z",
     "start_time": "2025-07-27T09:25:34.657704Z"
    }
   },
   "cell_type": "code",
   "source": [
    "CHUNK_SIZE = 1500\n",
    "CHUNK_OVERLAP = 150\n",
    "\n",
    "\n",
    "text_splitter = RecursiveCharacterTextSplitter(\n",
    "    chunk_size=CHUNK_SIZE,\n",
    "    chunk_overlap=CHUNK_OVERLAP,\n",
    "    length_function=len,\n",
    "    add_start_index=True,\n",
    "    separators=[\n",
    "        \"\\n\\n\\n\", \"\\n\\n\", \"\\n\", \" \", \"\" # Still useful for sub-chunking within long sections\n",
    "    ]\n",
    ")\n",
    "\n",
    "all_chunks = []\n",
    "if not semantic_sections_df.empty:\n",
    "    print(f\"\\nSplitting {len(semantic_sections_df)} semantic sections into smaller chunks (if needed)...\")\n",
    "    for index, row in tqdm(semantic_sections_df.iterrows(), total=len(semantic_sections_df), desc=\"Splitting sections into chunks\"):\n",
    "        source_file = row['source_file']\n",
    "        section_title = row['section_title']\n",
    "        section_content = row['section_content']\n",
    "        if not section_content.strip():\n",
    "            continue\n",
    "            \n",
    "        docs = text_splitter.create_documents(\n",
    "            texts = [section_content],\n",
    "            metadatas=[{\"source_file\": source_file, \"section_title\": section_title}]\n",
    "        )\n",
    "        for doc in docs:\n",
    "            chunk_data = {\n",
    "                \"source_file\": doc.metadata[\"source_file\"],\n",
    "                \"section_title\": doc.metadata[\"section_title\"], # Preserve the semantic section title\n",
    "                \"chunk_content\": doc.page_content,\n",
    "                \"chunk_length\": len(doc.page_content),\n",
    "                \"start_index_in_section\": doc.metadata[\"start_index\"], # Start index within this specific section\n",
    "                \"original_chunk_index\": len(all_chunks) # Unique global index for each chunk\n",
    "            }\n",
    "            all_chunks.append(chunk_data)\n",
    "\n",
    "\n",
    "\n"
   ],
   "id": "8d69b9dd8f4a81ae",
   "outputs": [
    {
     "name": "stdout",
     "output_type": "stream",
     "text": [
      "\n",
      "Splitting 967 semantic sections into smaller chunks (if needed)...\n"
     ]
    },
    {
     "name": "stderr",
     "output_type": "stream",
     "text": [
      "Splitting sections into chunks: 100%|██████████| 967/967 [00:16<00:00, 60.22it/s] \n"
     ]
    }
   ],
   "execution_count": 86
  },
  {
   "metadata": {
    "ExecuteTime": {
     "end_time": "2025-07-27T09:25:54.068378Z",
     "start_time": "2025-07-27T09:25:54.015241Z"
    }
   },
   "cell_type": "code",
   "source": [
    "chunks_df = pd.DataFrame(all_chunks)\n",
    "print(f\"\\nGenerated {len(chunks_df)} total chunks from semantic sections.\")\n",
    "print(\"\\nFirst 5 final chunks:\")\n",
    "print(chunks_df.head())\n",
    "\n"
   ],
   "id": "59bf9cf11fe1f22",
   "outputs": [
    {
     "name": "stdout",
     "output_type": "stream",
     "text": [
      "\n",
      "Generated 30122 total chunks from semantic sections.\n",
      "\n",
      "First 5 final chunks:\n",
      "                                         source_file          section_title  \\\n",
      "0  administrator00532129aba2e10fe634ab8fbd94c50b.pdf  Preamble/Introduction   \n",
      "1  administrator00532129aba2e10fe634ab8fbd94c50b.pdf  Preamble/Introduction   \n",
      "2  administrator00532129aba2e10fe634ab8fbd94c50b.pdf  Preamble/Introduction   \n",
      "3  administrator00532129aba2e10fe634ab8fbd94c50b.pdf  Preamble/Introduction   \n",
      "4  administrator00532129aba2e10fe634ab8fbd94c50b.pdf  Preamble/Introduction   \n",
      "\n",
      "                                       chunk_content  chunk_length  \\\n",
      "0  THE PRIVATISATION COMMISSION ORDINANCE, 2000 P...          1499   \n",
      "1  Annual Report. 38. Information to Public. 39. ...          1498   \n",
      "2  day of October, 1999, and the Provisional Cons...          1495   \n",
      "3  (g) “person” includes an individual, partnersh...          1499   \n",
      "4  Act, 1996, (Act XVII of 1996), the National El...          1493   \n",
      "\n",
      "   start_index_in_section  original_chunk_index  \n",
      "0                       0                     0  \n",
      "1                    1353                     1  \n",
      "2                    2706                     2  \n",
      "3                    4055                     3  \n",
      "4                    5414                     4  \n"
     ]
    }
   ],
   "execution_count": 87
  },
  {
   "metadata": {
    "ExecuteTime": {
     "end_time": "2025-07-27T09:26:23.138503Z",
     "start_time": "2025-07-27T09:26:23.125076Z"
    }
   },
   "cell_type": "code",
   "source": [
    "if not chunks_df.empty:\n",
    "    print(f\"\\nFinal Chunk Length Statistics:\")\n",
    "    print(chunks_df['chunk_length'].describe())"
   ],
   "id": "1861c2e79518233c",
   "outputs": [
    {
     "name": "stdout",
     "output_type": "stream",
     "text": [
      "\n",
      "Final Chunk Length Statistics:\n",
      "count    30122.000000\n",
      "mean      1473.419361\n",
      "std        146.663585\n",
      "min         26.000000\n",
      "25%       1495.000000\n",
      "50%       1497.000000\n",
      "75%       1498.000000\n",
      "max       1500.000000\n",
      "Name: chunk_length, dtype: float64\n"
     ]
    }
   ],
   "execution_count": 88
  },
  {
   "metadata": {
    "ExecuteTime": {
     "end_time": "2025-07-27T09:28:44.714551Z",
     "start_time": "2025-07-27T09:28:44.594002Z"
    }
   },
   "cell_type": "code",
   "source": "chunks_df",
   "id": "114f3e494a541182",
   "outputs": [
    {
     "data": {
      "text/plain": [
       "                                             source_file  \\\n",
       "0      administrator00532129aba2e10fe634ab8fbd94c50b.pdf   \n",
       "1      administrator00532129aba2e10fe634ab8fbd94c50b.pdf   \n",
       "2      administrator00532129aba2e10fe634ab8fbd94c50b.pdf   \n",
       "3      administrator00532129aba2e10fe634ab8fbd94c50b.pdf   \n",
       "4      administrator00532129aba2e10fe634ab8fbd94c50b.pdf   \n",
       "...                                                  ...   \n",
       "30117  WEST PAKISTAN SHOPS AND ESTABLISHMENTS ORDINAN...   \n",
       "30118  WEST PAKISTAN SHOPS AND ESTABLISHMENTS ORDINAN...   \n",
       "30119  WEST PAKISTAN SHOPS AND ESTABLISHMENTS ORDINAN...   \n",
       "30120  WEST PAKISTAN SHOPS AND ESTABLISHMENTS ORDINAN...   \n",
       "30121  WEST PAKISTAN SHOPS AND ESTABLISHMENTS ORDINAN...   \n",
       "\n",
       "               section_title  \\\n",
       "0      Preamble/Introduction   \n",
       "1      Preamble/Introduction   \n",
       "2      Preamble/Introduction   \n",
       "3      Preamble/Introduction   \n",
       "4      Preamble/Introduction   \n",
       "...                      ...   \n",
       "30117  Preamble/Introduction   \n",
       "30118  Preamble/Introduction   \n",
       "30119  Preamble/Introduction   \n",
       "30120  Preamble/Introduction   \n",
       "30121  Preamble/Introduction   \n",
       "\n",
       "                                           chunk_content  chunk_length  \\\n",
       "0      THE PRIVATISATION COMMISSION ORDINANCE, 2000 P...          1499   \n",
       "1      Annual Report. 38. Information to Public. 39. ...          1498   \n",
       "2      day of October, 1999, and the Provisional Cons...          1495   \n",
       "3      (g) “person” includes an individual, partnersh...          1499   \n",
       "4      Act, 1996, (Act XVII of 1996), the National El...          1493   \n",
       "...                                                  ...           ...   \n",
       "30117  29. Limitation of prosecutions.– No Court shal...          1497   \n",
       "30118  date of the commencement of this Ordinance und...          1496   \n",
       "30119  of the establishment, if any. 2. Postal addres...          1498   \n",
       "30120  as a * under the West Pakistan Shops and Estab...          1495   \n",
       "30121  1, 2006 [12] Ibid., for the words “one hundred...           233   \n",
       "\n",
       "       start_index_in_section  original_chunk_index  \n",
       "0                           0                     0  \n",
       "1                        1353                     1  \n",
       "2                        2706                     2  \n",
       "3                        4055                     3  \n",
       "4                        5414                     4  \n",
       "...                       ...                   ...  \n",
       "30117                   32374                 30117  \n",
       "30118                   33724                 30118  \n",
       "30119                   35071                 30119  \n",
       "30120                   36423                 30120  \n",
       "30121                   37771                 30121  \n",
       "\n",
       "[30122 rows x 6 columns]"
      ],
      "text/html": [
       "<div>\n",
       "<style scoped>\n",
       "    .dataframe tbody tr th:only-of-type {\n",
       "        vertical-align: middle;\n",
       "    }\n",
       "\n",
       "    .dataframe tbody tr th {\n",
       "        vertical-align: top;\n",
       "    }\n",
       "\n",
       "    .dataframe thead th {\n",
       "        text-align: right;\n",
       "    }\n",
       "</style>\n",
       "<table border=\"1\" class=\"dataframe\">\n",
       "  <thead>\n",
       "    <tr style=\"text-align: right;\">\n",
       "      <th></th>\n",
       "      <th>source_file</th>\n",
       "      <th>section_title</th>\n",
       "      <th>chunk_content</th>\n",
       "      <th>chunk_length</th>\n",
       "      <th>start_index_in_section</th>\n",
       "      <th>original_chunk_index</th>\n",
       "    </tr>\n",
       "  </thead>\n",
       "  <tbody>\n",
       "    <tr>\n",
       "      <th>0</th>\n",
       "      <td>administrator00532129aba2e10fe634ab8fbd94c50b.pdf</td>\n",
       "      <td>Preamble/Introduction</td>\n",
       "      <td>THE PRIVATISATION COMMISSION ORDINANCE, 2000 P...</td>\n",
       "      <td>1499</td>\n",
       "      <td>0</td>\n",
       "      <td>0</td>\n",
       "    </tr>\n",
       "    <tr>\n",
       "      <th>1</th>\n",
       "      <td>administrator00532129aba2e10fe634ab8fbd94c50b.pdf</td>\n",
       "      <td>Preamble/Introduction</td>\n",
       "      <td>Annual Report. 38. Information to Public. 39. ...</td>\n",
       "      <td>1498</td>\n",
       "      <td>1353</td>\n",
       "      <td>1</td>\n",
       "    </tr>\n",
       "    <tr>\n",
       "      <th>2</th>\n",
       "      <td>administrator00532129aba2e10fe634ab8fbd94c50b.pdf</td>\n",
       "      <td>Preamble/Introduction</td>\n",
       "      <td>day of October, 1999, and the Provisional Cons...</td>\n",
       "      <td>1495</td>\n",
       "      <td>2706</td>\n",
       "      <td>2</td>\n",
       "    </tr>\n",
       "    <tr>\n",
       "      <th>3</th>\n",
       "      <td>administrator00532129aba2e10fe634ab8fbd94c50b.pdf</td>\n",
       "      <td>Preamble/Introduction</td>\n",
       "      <td>(g) “person” includes an individual, partnersh...</td>\n",
       "      <td>1499</td>\n",
       "      <td>4055</td>\n",
       "      <td>3</td>\n",
       "    </tr>\n",
       "    <tr>\n",
       "      <th>4</th>\n",
       "      <td>administrator00532129aba2e10fe634ab8fbd94c50b.pdf</td>\n",
       "      <td>Preamble/Introduction</td>\n",
       "      <td>Act, 1996, (Act XVII of 1996), the National El...</td>\n",
       "      <td>1493</td>\n",
       "      <td>5414</td>\n",
       "      <td>4</td>\n",
       "    </tr>\n",
       "    <tr>\n",
       "      <th>...</th>\n",
       "      <td>...</td>\n",
       "      <td>...</td>\n",
       "      <td>...</td>\n",
       "      <td>...</td>\n",
       "      <td>...</td>\n",
       "      <td>...</td>\n",
       "    </tr>\n",
       "    <tr>\n",
       "      <th>30117</th>\n",
       "      <td>WEST PAKISTAN SHOPS AND ESTABLISHMENTS ORDINAN...</td>\n",
       "      <td>Preamble/Introduction</td>\n",
       "      <td>29. Limitation of prosecutions.– No Court shal...</td>\n",
       "      <td>1497</td>\n",
       "      <td>32374</td>\n",
       "      <td>30117</td>\n",
       "    </tr>\n",
       "    <tr>\n",
       "      <th>30118</th>\n",
       "      <td>WEST PAKISTAN SHOPS AND ESTABLISHMENTS ORDINAN...</td>\n",
       "      <td>Preamble/Introduction</td>\n",
       "      <td>date of the commencement of this Ordinance und...</td>\n",
       "      <td>1496</td>\n",
       "      <td>33724</td>\n",
       "      <td>30118</td>\n",
       "    </tr>\n",
       "    <tr>\n",
       "      <th>30119</th>\n",
       "      <td>WEST PAKISTAN SHOPS AND ESTABLISHMENTS ORDINAN...</td>\n",
       "      <td>Preamble/Introduction</td>\n",
       "      <td>of the establishment, if any. 2. Postal addres...</td>\n",
       "      <td>1498</td>\n",
       "      <td>35071</td>\n",
       "      <td>30119</td>\n",
       "    </tr>\n",
       "    <tr>\n",
       "      <th>30120</th>\n",
       "      <td>WEST PAKISTAN SHOPS AND ESTABLISHMENTS ORDINAN...</td>\n",
       "      <td>Preamble/Introduction</td>\n",
       "      <td>as a * under the West Pakistan Shops and Estab...</td>\n",
       "      <td>1495</td>\n",
       "      <td>36423</td>\n",
       "      <td>30120</td>\n",
       "    </tr>\n",
       "    <tr>\n",
       "      <th>30121</th>\n",
       "      <td>WEST PAKISTAN SHOPS AND ESTABLISHMENTS ORDINAN...</td>\n",
       "      <td>Preamble/Introduction</td>\n",
       "      <td>1, 2006 [12] Ibid., for the words “one hundred...</td>\n",
       "      <td>233</td>\n",
       "      <td>37771</td>\n",
       "      <td>30121</td>\n",
       "    </tr>\n",
       "  </tbody>\n",
       "</table>\n",
       "<p>30122 rows × 6 columns</p>\n",
       "</div>"
      ]
     },
     "execution_count": 89,
     "metadata": {},
     "output_type": "execute_result"
    }
   ],
   "execution_count": 89
  },
  {
   "metadata": {
    "ExecuteTime": {
     "end_time": "2025-07-27T09:32:55.815255Z",
     "start_time": "2025-07-27T09:32:53.775850Z"
    }
   },
   "cell_type": "code",
   "source": [
    "chunks_df.to_csv('pakistan_laws_chunks.csv', index=False)\n",
    "print(f\"\\nProcessed chunks saved to pakistan_laws_chunks.csv\")\n",
    "\n",
    "print(\"\\n--- Task 2: Data Preprocessing (Cleaning & Initial Chunking) complete! ---\")"
   ],
   "id": "9ff8a552c88dded6",
   "outputs": [
    {
     "name": "stdout",
     "output_type": "stream",
     "text": [
      "\n",
      "Processed chunks saved to pakistan_laws_chunks.csv\n",
      "\n",
      "--- Task 2: Data Preprocessing (Cleaning & Initial Chunking) complete! ---\n"
     ]
    }
   ],
   "execution_count": 90
  },
  {
   "metadata": {},
   "cell_type": "code",
   "outputs": [],
   "execution_count": null,
   "source": "",
   "id": "184f460410d4f427"
  }
 ],
 "metadata": {
  "kernelspec": {
   "display_name": "Python 3",
   "language": "python",
   "name": "python3"
  },
  "language_info": {
   "codemirror_mode": {
    "name": "ipython",
    "version": 2
   },
   "file_extension": ".py",
   "mimetype": "text/x-python",
   "name": "python",
   "nbconvert_exporter": "python",
   "pygments_lexer": "ipython2",
   "version": "2.7.6"
  }
 },
 "nbformat": 4,
 "nbformat_minor": 5
}
