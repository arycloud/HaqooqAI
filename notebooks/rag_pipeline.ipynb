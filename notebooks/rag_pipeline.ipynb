{
 "cells": [
  {
   "cell_type": "code",
   "id": "initial_id",
   "metadata": {
    "collapsed": true,
    "ExecuteTime": {
     "end_time": "2025-08-04T07:58:05.263716Z",
     "start_time": "2025-08-04T07:58:05.241932Z"
    }
   },
   "source": [
    "import os\n",
    "import pandas as pd\n",
    "import torch\n",
    "import chromadb\n",
    "from chromadb.utils import embedding_functions\n",
    "from sentence_transformers import SentenceTransformer\n"
   ],
   "outputs": [],
   "execution_count": 15
  },
  {
   "metadata": {
    "ExecuteTime": {
     "end_time": "2025-08-04T07:43:55.692703Z",
     "start_time": "2025-08-04T07:43:55.686616Z"
    }
   },
   "cell_type": "code",
   "source": [
    "# ----------- Setting up the stage ----------\n",
    "PROJECT_ROOT = os.path.abspath(os.path.join(os.getcwd(), os.pardir))\n",
    "DATA_DIR = os.path.join(PROJECT_ROOT, \"data\")\n",
    "VECTOR_DB_DIR = os.path.join(DATA_DIR, \"chroma_db\") # Directory where ChromaDB is persisted\n",
    "\n",
    "COLLECTION_NAME = \"pakistan_laws_chunks_collection\"\n",
    "EMBEDDING_MODEL_NAME = \"BAAI/bge-large-en-v1.5\" # This MUST be the exact model you used to generate embeddings\n",
    "\n",
    "print(f\"Project root: {PROJECT_ROOT}\")\n",
    "print(f\"Data directory: {DATA_DIR}\")\n",
    "print(f\"Vector DB directory: {VECTOR_DB_DIR}\")"
   ],
   "id": "a9302c222b95590d",
   "outputs": [
    {
     "name": "stdout",
     "output_type": "stream",
     "text": [
      "Project root: /Users/apple/PycharmProjects/LLM_Production_01_RAG/Haq_ooq_RAG\n",
      "Data directory: /Users/apple/PycharmProjects/LLM_Production_01_RAG/Haq_ooq_RAG/data\n",
      "Vector DB directory: /Users/apple/PycharmProjects/LLM_Production_01_RAG/Haq_ooq_RAG/data/chroma_db\n"
     ]
    }
   ],
   "execution_count": 4
  },
  {
   "metadata": {
    "ExecuteTime": {
     "end_time": "2025-08-04T07:44:20.322707Z",
     "start_time": "2025-08-04T07:44:10.144462Z"
    }
   },
   "cell_type": "code",
   "source": [
    "# ----- Setting up my love with chromadb via its client ------\n",
    "print(f\"\\nInitializing ChromaDB client at: {VECTOR_DB_DIR}\")\n",
    "try:\n",
    "    client = chromadb.PersistentClient(path=VECTOR_DB_DIR)\n",
    "    embedding_function_for_chroma = embedding_functions.SentenceTransformerEmbeddingFunction(\n",
    "        model_name=EMBEDDING_MODEL_NAME,\n",
    "        device='cuda' if torch.cuda.is_available() else 'cpu'\n",
    "    )\n",
    "    collection = client.get_collection(\n",
    "        name = COLLECTION_NAME,\n",
    "        embedding_function = embedding_function_for_chroma\n",
    "    )\n",
    "    print(f\"Successfully connected to ChromaDB collection '{COLLECTION_NAME}'.\")\n",
    "    print(f\"Current count in collection: {collection.count()} chunks.\")\n",
    "\n",
    "except Exception as e:\n",
    "    print(f\"Error connecting to ChromaDB collection: {e}\")\n",
    "    print(\"Please ensure your 'chroma_db' directory exists and contains data.\")\n",
    "    print(\"Also verify 'COLLECTION_NAME' and 'EMBEDDING_MODEL_NAME' are correct.\")\n",
    "    # Exit or handle error appropriately if connection fails\n",
    "    exit()\n",
    "    "
   ],
   "id": "c72f119d896ff07b",
   "outputs": [
    {
     "name": "stdout",
     "output_type": "stream",
     "text": [
      "\n",
      "Initializing ChromaDB client at: /Users/apple/PycharmProjects/LLM_Production_01_RAG/Haq_ooq_RAG/data/chroma_db\n",
      "Successfully connected to ChromaDB collection 'pakistan_laws_chunks_collection'.\n",
      "Current count in collection: 30122 chunks.\n"
     ]
    }
   ],
   "execution_count": 5
  },
  {
   "metadata": {
    "ExecuteTime": {
     "end_time": "2025-08-04T07:44:35.188246Z",
     "start_time": "2025-08-04T07:44:27.540464Z"
    }
   },
   "cell_type": "code",
   "source": [
    "query_embedding_model = None\n",
    "\n",
    "try:\n",
    "    query_embedding_model = SentenceTransformer(EMBEDDING_MODEL_NAME, device='cuda' if torch.cuda.is_available() else 'cpu')\n",
    "    print(f\"\\nQuery embedding model '{EMBEDDING_MODEL_NAME}' loaded successfully.\")\n",
    "    \n",
    "except Exception as e:\n",
    "    print(f\"Error loading query embedding model: {e}\")\n",
    "    print(\"Please ensure the model can be downloaded/loaded. Exiting for now.\")\n",
    "    exit() # Or handle more gracefully"
   ],
   "id": "d9f638e03eca0f57",
   "outputs": [
    {
     "name": "stdout",
     "output_type": "stream",
     "text": [
      "\n",
      "Query embedding model 'BAAI/bge-large-en-v1.5' loaded successfully.\n"
     ]
    }
   ],
   "execution_count": 6
  },
  {
   "metadata": {
    "ExecuteTime": {
     "end_time": "2025-08-04T07:44:50.528239Z",
     "start_time": "2025-08-04T07:44:50.522275Z"
    }
   },
   "cell_type": "code",
   "source": [
    "# --- lets engineer the Retriever Function ---\n",
    "\n",
    "def retrieve_relevant_chunks(query_text: str, n_results: int = 5) -> list:\n",
    "    \"\"\"\n",
    "    Embeds the query and retrieves the most relevant chunks from ChromaDB.\n",
    "\n",
    "    Args:\n",
    "        query_text (str): The user's query.\n",
    "        n_results (int): The number of top relevant chunks to retrieve.\n",
    "\n",
    "    Returns:\n",
    "        list: A list of dictionaries, where each dictionary represents a retrieved chunk\n",
    "              with its content and metadata.\n",
    "    \"\"\"\n",
    "    if query_embedding_model is None:\n",
    "        print(\"Query embedding model not loaded. Cannot retrieve chunks.\")\n",
    "        return []\n",
    "\n",
    "    # Generate embedding for the query using the same model\n",
    "    query_embedding = query_embedding_model.encode(query_text).tolist()\n",
    "    \n",
    "    # Query the ChromaDB collection\n",
    "    results = collection.query(\n",
    "        query_embeddings=[query_embedding],\n",
    "        n_results=n_results,\n",
    "        include=['documents', 'metadatas', 'distances'] # Request documents, their metadata, and similarity scores\n",
    "    )\n",
    "    retrieved_chunks_info = []\n",
    "    \n",
    "    if results and results['documents']:\n",
    "        # Results are lists of lists, so we take the first element (for our single query)\n",
    "        for i in range(len(results['documents'][0])):\n",
    "            chunk_content = results['documents'][0][i]\n",
    "            metadata = results['metadatas'][0][i]\n",
    "            distance = results['distances'][0][i] # Similarity score (lower is more similar)\n",
    "\n",
    "            retrieved_chunks_info.append({\n",
    "                \"chunk_content\": chunk_content,\n",
    "                \"source_file\": metadata.get('source_file'),\n",
    "                \"section_title\": metadata.get('section_title'),\n",
    "                \"distance\": distance # Include distance for debugging/understanding relevance\n",
    "            })\n",
    "    \n",
    "    print(f\"\\nRetrieved {len(retrieved_chunks_info)} chunks for the query: '{query_text}'\")\n",
    "    return retrieved_chunks_info"
   ],
   "id": "ad78278d9f8d0b4c",
   "outputs": [],
   "execution_count": 7
  },
  {
   "metadata": {
    "ExecuteTime": {
     "end_time": "2025-08-04T07:44:56.183594Z",
     "start_time": "2025-08-04T07:44:52.473793Z"
    }
   },
   "cell_type": "code",
   "source": [
    "# --- Test the Retriever (Optional, but recommended) ---\n",
    "\n",
    "sample_query = \"What are the powers of the Privatisation Commission?\"\n",
    "retrieved_data = retrieve_relevant_chunks(sample_query, n_results=3)\n",
    "if retrieved_data:\n",
    "    for i, chunk in enumerate(retrieved_data):\n",
    "        print(f\"\\n--- Retrieved Chunk {i+1} (Distance: {chunk['distance']:.4f}) ---\")\n",
    "        print(f\"Source: {chunk['source_file']} | Section: {chunk['section_title']}\")\n",
    "        print(f\"Content (first 200 chars): {chunk['chunk_content'][:200]}...\")\n",
    "else:\n",
    "    print(\"No chunks retrieved.\")\n",
    "\n",
    "\n",
    "    "
   ],
   "id": "8c11df7a199ad8a5",
   "outputs": [
    {
     "name": "stderr",
     "output_type": "stream",
     "text": [
      "/Users/apple/PycharmProjects/LLM_Production_01_RAG/.venv/lib/python3.12/site-packages/torch/nn/modules/module.py:1520: FutureWarning: `encoder_attention_mask` is deprecated and will be removed in version 4.55.0 for `BertSdpaSelfAttention.forward`.\n",
      "  return forward_call(*args, **kwargs)\n"
     ]
    },
    {
     "name": "stdout",
     "output_type": "stream",
     "text": [
      "\n",
      "Retrieved 3 chunks for the query: 'What are the powers of the Privatisation Commission?'\n",
      "\n",
      "--- Retrieved Chunk 1 (Distance: 0.4346) ---\n",
      "Source: administrator00532129aba2e10fe634ab8fbd94c50b.pdf | Section: Preamble/Introduction\n",
      "Content (first 200 chars): be at Islamabad. The Commission may establish regional offices at such other place or places in Pakistan as it considers necessary. 5. Functions and Powers of the Commission. — The Commission shall: (...\n",
      "\n",
      "--- Retrieved Chunk 2 (Distance: 0.4857) ---\n",
      "Source: administrator00532129aba2e10fe634ab8fbd94c50b.pdf | Section: Preamble/Introduction\n",
      "Content (first 200 chars): THE PRIVATISATION COMMISSION ORDINANCE, 2000 PART I.—GENERAL SECTIONS: 1. Short title, extent and commencement. 2. Definitions. PART II.—PRIVATISATION COMMISSION 3. Establishment of the Commission. 4....\n",
      "\n",
      "--- Retrieved Chunk 3 (Distance: 0.5315) ---\n",
      "Source: administrator00532129aba2e10fe634ab8fbd94c50b.pdf | Section: Preamble/Introduction\n",
      "Content (first 200 chars): 1Subs. by the Privatization Commission (Amendment) Act, 2021 (XLV of 2021), s. 2. unfitness and has been so declared by a Special Medical Board appointed by the 1[Prime Minister of Pakistan] ; or (d) ...\n"
     ]
    }
   ],
   "execution_count": 8
  },
  {
   "metadata": {
    "ExecuteTime": {
     "end_time": "2025-08-04T07:45:03.347270Z",
     "start_time": "2025-08-04T07:45:02.442329Z"
    }
   },
   "cell_type": "code",
   "source": [
    "# --- Necessary Imports for this Cell ---\n",
    "# IMPORTANT: Use this import for the latest ChatOllama\n",
    "from langchain_ollama import ChatOllama\n",
    "from langchain_core.prompts import ChatPromptTemplate\n",
    "from langchain_core.runnables import RunnablePassthrough\n",
    "from langchain_core.output_parsers import StrOutputParser\n",
    "\n",
    "# --- Choose and Initialize the Generative LLM ---\n",
    "# Connecting to your local Ollama instance running the qwen3:1.7b model.\n",
    "# Ensure Ollama is running in your terminal (ollama run qwen3:1.7b)\n",
    "try:\n",
    "    # --- THIS IS THE CRITICAL LINE ---\n",
    "    llm = ChatOllama(model=\"qwen3:1.7b\") # <<< Ensure 'model=' is used here\n",
    "    print(\"Generative LLM (qwen3:1.7b via Ollama) initialized successfully.\")\n",
    "except Exception as e:\n",
    "    print(f\"Error initializing Ollama LLM: {e}\")\n",
    "    print(\"Please ensure Ollama is installed and the 'qwen3:1.7b' model is downloaded and running.\")\n",
    "    print(\"You might need to start Ollama with 'ollama run qwen3:1.7b' in your terminal.\")\n",
    "    exit() # Or handle error more gracefully"
   ],
   "id": "efbb802ac9916924",
   "outputs": [
    {
     "name": "stdout",
     "output_type": "stream",
     "text": [
      "Generative LLM (qwen3:1.7b via Ollama) initialized successfully.\n"
     ]
    }
   ],
   "execution_count": 9
  },
  {
   "metadata": {
    "ExecuteTime": {
     "end_time": "2025-08-04T07:45:25.705132Z",
     "start_time": "2025-08-04T07:45:25.696169Z"
    }
   },
   "cell_type": "code",
   "source": [
    "from langchain_core.prompts import ChatPromptTemplate\n",
    "# --- Define the RAG Prompt Template ---\n",
    "rag_prompt_template = ChatPromptTemplate.from_messages([\n",
    "    (\"system\", \"You are a helpful legal assistant. Answer the user's question based ONLY on the provided legal context. If the answer is not found in the context, clearly state 'I cannot find a direct answer to your question in the provided documents.'\"),\n",
    "    (\"user\", \"Context: \\n{context}\\n\\nQuestion: {question}\")\n",
    "])\n",
    "print(\"\\nRAG Prompt Template defined.\")"
   ],
   "id": "4071ba1b729b9190",
   "outputs": [
    {
     "name": "stdout",
     "output_type": "stream",
     "text": [
      "\n",
      "RAG Prompt Template defined.\n"
     ]
    }
   ],
   "execution_count": 10
  },
  {
   "metadata": {},
   "cell_type": "markdown",
   "source": "# # --- Combine Retriever and LLM into a RAG Chain (using LangChain's LCEL) ---",
   "id": "839ae96a62eeb841"
  },
  {
   "metadata": {
    "ExecuteTime": {
     "end_time": "2025-08-04T07:45:30.946154Z",
     "start_time": "2025-08-04T07:45:30.941429Z"
    }
   },
   "cell_type": "code",
   "source": [
    "# Define the format_docs function\n",
    "def format_docs(docs):\n",
    "    # This line extracts 'chunk_content' from each 'doc' in the 'docs' list\n",
    "    return \"\\n\\n\".join(doc[\"chunk_content\"] for doc in docs)"
   ],
   "id": "d6046b6f1076f42f",
   "outputs": [],
   "execution_count": 11
  },
  {
   "metadata": {
    "ExecuteTime": {
     "end_time": "2025-08-04T07:45:31.802232Z",
     "start_time": "2025-08-04T07:45:31.797467Z"
    }
   },
   "cell_type": "code",
   "source": [
    "# The custom_retriever_runnable assumes retrieve_relevant_chunks is defined in Cell 2.\n",
    "# Make sure Cell 2 was run successfully.\n",
    "custom_retriever_runnable = RunnablePassthrough.assign(\n",
    "    context=lambda x: format_docs(retrieve_relevant_chunks(x[\"question\"], n_results=5)) # Adjust n_results as needed\n",
    ")"
   ],
   "id": "e4ad4ef98e71d9af",
   "outputs": [],
   "execution_count": 12
  },
  {
   "metadata": {
    "ExecuteTime": {
     "end_time": "2025-08-04T07:45:32.491047Z",
     "start_time": "2025-08-04T07:45:32.486867Z"
    }
   },
   "cell_type": "code",
   "source": [
    "rag_chain = custom_retriever_runnable | rag_prompt_template | llm | StrOutputParser()\n",
    "print(\"\\nRAG chain assembled.\")"
   ],
   "id": "c668b4ab3fc4aafe",
   "outputs": [
    {
     "name": "stdout",
     "output_type": "stream",
     "text": [
      "\n",
      "RAG chain assembled.\n"
     ]
    }
   ],
   "execution_count": 13
  },
  {
   "metadata": {
    "ExecuteTime": {
     "end_time": "2025-08-04T07:48:34.299646Z",
     "start_time": "2025-08-04T07:45:33.322668Z"
    }
   },
   "cell_type": "code",
   "source": [
    "# --- Test the Full RAG Pipeline ---\n",
    "# --- Test the Full RAG Pipeline ---\n",
    "if __name__ == \"__main__\":\n",
    "    print(\"\\n--- Testing the Full RAG Pipeline ---\")\n",
    "    \n",
    "    # Sample legal query\n",
    "    question_1 = \"What are the functions and powers of the Privatisation Commission as per the Ordinance?\"\n",
    "    print(f\"\\nQuestion 1: {question_1}\")\n",
    "    response_1 = rag_chain.invoke({\"question\": question_1})\n",
    "    print(\"\\nAnswer 1:\")\n",
    "    print(response_1)\n",
    "\n",
    "    # Another sample query, perhaps one not directly answerable by the documents\n",
    "    question_2 = \"What is the new law regarding cryptocurrency in Pakistan?\"\n",
    "    print(f\"\\n\\nQuestion 2: {question_2}\")\n",
    "    response_2 = rag_chain.invoke({\"question\": question_2})\n",
    "    print(\"\\nAnswer 2:\")\n",
    "    print(response_2)"
   ],
   "id": "2078c651030be183",
   "outputs": [
    {
     "name": "stdout",
     "output_type": "stream",
     "text": [
      "\n",
      "--- Testing the Full RAG Pipeline ---\n",
      "\n",
      "Question 1: What are the functions and powers of the Privatisation Commission as per the Ordinance?\n"
     ]
    },
    {
     "name": "stderr",
     "output_type": "stream",
     "text": [
      "/Users/apple/PycharmProjects/LLM_Production_01_RAG/.venv/lib/python3.12/site-packages/torch/nn/modules/module.py:1520: FutureWarning: `encoder_attention_mask` is deprecated and will be removed in version 4.55.0 for `BertSdpaSelfAttention.forward`.\n",
      "  return forward_call(*args, **kwargs)\n"
     ]
    },
    {
     "name": "stdout",
     "output_type": "stream",
     "text": [
      "\n",
      "Retrieved 5 chunks for the query: 'What are the functions and powers of the Privatisation Commission as per the Ordinance?'\n",
      "\n",
      "Answer 1:\n",
      "<think>\n",
      "Okay, let's tackle this question. The user is asking about the functions and powers of the Privatisation Commission as per the Ordinance. I need to refer back to the provided context to find the answer.\n",
      "\n",
      "First, I'll scan through the context. The user mentioned that the context includes parts of the Privatisation Commission Ordinance, 2000, and some amendments. The key sections are Part II, which talks about the functions and powers. \n",
      "\n",
      "Looking at the text, under Part II, section 5, it lists the functions and powers. The functions are numbered from (a) to (j). Let me go through each one:\n",
      "\n",
      "(a) Recommend privatization policy guidelines to the Cabinet.\n",
      "(b) Prepare a comprehensive privatization programme for Cabinet approval.\n",
      "(c) Plan, manage, implement, and control the programme.\n",
      "(d) Prepare and submit reports to the Cabinet on all aspects.\n",
      "(e) Facilitate or initiate legislation as approved by the Cabinet.\n",
      "(f) Provide overall directions for implementation including restructuring, deregulation, and post-privatisation matters.\n",
      "(g) Take operational decisions on privatization, restructuring, deregulation, regulatory issues, etc.\n",
      "(h) Issue directions to management of businesses in the programme.\n",
      "(i) Publicize the programme's activities.\n",
      "(j) Propose a regulatory framework, including establishment of regulatory authorities.\n",
      "\n",
      "So the answer should list these points. I need to make sure I don't miss any of the functions. Also, check if there are any other functions mentioned in the context. The user also included some additional functions like (k) to (s), but those are probably part of the same section. However, the question is specifically about the functions and powers as per the Ordinance, so the main points from section 5 are the key ones.\n",
      "\n",
      "I should present these functions in a clear list, ensuring each point is addressed. Also, note that the Ordinance's functions are as listed. The user might want a concise answer, so I'll structure it accordingly.\n",
      "</think>\n",
      "\n",
      "The functions and powers of the Privatisation Commission as per the Ordinance are as follows:  \n",
      "1. **Policy Recommendations**: Recommend privatization policy guidelines to the Cabinet.  \n",
      "2. **Program Preparation**: Prepare a comprehensive privatization programme for Cabinet approval.  \n",
      "3. **Program Implementation**: Plan, manage, implement, and control the programme approved by the Cabinet.  \n",
      "4. **Reporting**: Prepare and submit reports to the Cabinet on all aspects of the programme.  \n",
      "5. **Legislative Facilitation**: Facilitate or initiate legislation as approved by the Cabinet.  \n",
      "6. **Implementation Directions**: Provide overall directions for the implementation of privatization-related activities (e.g., restructuring, deregulation).  \n",
      "7. **Operational Decisions**: Take operational decisions on privatization, restructuring, deregulation, and regulatory matters.  \n",
      "8. **Management Instructions**: Issue directions to management of businesses in the programme on administrative, financial, and policy matters.  \n",
      "9. **Publicization**: Publicize the activities of the privatization programme.  \n",
      "10. **Regulatory Framework**: Propose a regulatory framework, including the establishment of regulatory authorities, to the Cabinet.  \n",
      "\n",
      "These functions are outlined in **Part II, Section 5** of the Ordinance.\n",
      "\n",
      "\n",
      "Question 2: What is the new law regarding cryptocurrency in Pakistan?\n"
     ]
    },
    {
     "name": "stderr",
     "output_type": "stream",
     "text": [
      "/Users/apple/PycharmProjects/LLM_Production_01_RAG/.venv/lib/python3.12/site-packages/torch/nn/modules/module.py:1520: FutureWarning: `encoder_attention_mask` is deprecated and will be removed in version 4.55.0 for `BertSdpaSelfAttention.forward`.\n",
      "  return forward_call(*args, **kwargs)\n"
     ]
    },
    {
     "name": "stdout",
     "output_type": "stream",
     "text": [
      "\n",
      "Retrieved 5 chunks for the query: 'What is the new law regarding cryptocurrency in Pakistan?'\n",
      "\n",
      "Answer 2:\n",
      "<think>\n",
      "Okay, let's see. The user is asking about the new law regarding cryptocurrency in Pakistan based on the provided context. \n",
      "\n",
      "First, I need to go through the context carefully. The context includes several legal acts, like the State Bank of Pakistan (Amendment) Act, 2022, and other related acts. There's a mention of sections 18, 19, 20, and 21, which deal with penalties for publishing laws, offenses, and specific transactions.\n",
      "\n",
      "Looking at the sections, there's a part about the custody of monies, securities, and other articles, and the sale and realisation of property. Then there's a section about the purchase and sale of securities of countries whose currency is approved foreign exchange. Also, there's a mention of the Federal Government and Provincial Governments purchasing securities.\n",
      "\n",
      "Wait, the user is asking about cryptocurrency. The context doesn't mention anything about cryptocurrency directly. The sections talk about foreign exchange, securities, and transactions related to banks, but not cryptocurrency. There's a part about foreign currency accounts and taxes, but that's about foreign currencies, not cryptocurrencies.\n",
      "\n",
      "I need to check if there's any mention of cryptocurrency in the context. The user provided a lot of legal texts, but none of them specifically address cryptocurrency. The closest might be the part about foreign exchange and securities, but that's not about crypto. The answer would be that there's no direct mention of a new law regarding cryptocurrency in the provided documents. The answer should state that the information isn't found in the context.\n",
      "</think>\n",
      "\n",
      "I cannot find a direct answer to your question in the provided documents. The context discusses legal provisions related to foreign exchange, securities, and banking regulations in Pakistan, but there is no specific mention of a new law addressing cryptocurrency.\n"
     ]
    }
   ],
   "execution_count": 14
  },
  {
   "metadata": {
    "ExecuteTime": {
     "end_time": "2025-08-04T07:37:32.664813Z",
     "start_time": "2025-08-04T07:37:30.586540Z"
    }
   },
   "cell_type": "code",
   "source": [
    "# --- Necessary Imports for this Cell ---\n",
    "# IMPORTANT: Use this import for the latest ChatOllama\n",
    "from langchain_ollama import ChatOllama\n",
    "from langchain_core.prompts import ChatPromptTemplate\n",
    "from langchain_core.runnables import RunnablePassthrough\n",
    "from langchain_core.output_parsers import StrOutputParser\n",
    "\n",
    "# --- Choose and Initialize the Generative LLM ---\n",
    "# Connecting to your local Ollama instance running the qwen3:1.7b model.\n",
    "# Ensure Ollama is running in your terminal (ollama run qwen3:1.7b)\n",
    "try:\n",
    "    # --- THIS IS THE CRITICAL LINE ---\n",
    "    llm = ChatOllama(model=\"qwen3:1.7b\") # <<< Ensure 'model=' is used here\n",
    "    print(\"Generative LLM (qwen3:1.7b via Ollama) initialized successfully.\")\n",
    "except Exception as e:\n",
    "    print(f\"Error initializing Ollama LLM: {e}\")\n",
    "    print(\"Please ensure Ollama is installed and the 'qwen3:1.7b' model is downloaded and running.\")\n",
    "    print(\"You might need to start Ollama with 'ollama run qwen3:1.7b' in your terminal.\")\n",
    "    exit() # Or handle error more gracefully\n",
    "\n",
    "# --- Define the RAG Prompt Template ---\n",
    "rag_prompt_template = ChatPromptTemplate.from_messages([\n",
    "    (\"system\", \"You are a helpful legal assistant. Answer the user's question based ONLY on the provided legal context. If the answer is not found in the context, clearly state 'I cannot find a direct answer to your question in the provided documents.'\"),\n",
    "    (\"user\", \"Context: \\n{context}\\n\\nQuestion: {question}\")\n",
    "])\n",
    "\n",
    "print(\"\\nRAG Prompt Template defined.\")\n",
    "\n",
    "# --- Combine Retriever and LLM into a RAG Chain (using LangChain's LCEL) ---\n",
    "# Define the format_docs function\n",
    "def format_docs(docs):\n",
    "    # This line extracts 'chunk_content' from each 'doc' in the 'docs' list\n",
    "    return \"\\n\\n\".join(doc[\"chunk_content\"] for doc in docs)\n",
    "\n",
    "# The custom_retriever_runnable assumes retrieve_relevant_chunks is defined in Cell 2.\n",
    "# Make sure Cell 2 was run successfully.\n",
    "custom_retriever_runnable = RunnablePassthrough.assign(\n",
    "    context=lambda x: format_docs(retrieve_relevant_chunks(x[\"question\"], n_results=5)) # Adjust n_results as needed\n",
    ")\n",
    "\n",
    "rag_chain = custom_retriever_runnable | rag_prompt_template | llm | StrOutputParser()\n",
    "\n",
    "print(\"\\nRAG chain assembled.\")\n",
    "\n",
    "# --- Test the Full RAG Pipeline ---\n",
    "if __name__ == \"__main__\":\n",
    "    print(\"\\n--- Testing the Full RAG Pipeline ---\")\n",
    "    \n",
    "    # Sample legal query\n",
    "    question_1 = \"What are the functions and powers of the Privatisation Commission as per the Ordinance?\"\n",
    "    print(f\"\\nQuestion 1: {question_1}\")\n",
    "    response_1 = rag_chain.invoke({\"question\": question_1})\n",
    "    print(\"\\nAnswer 1:\")\n",
    "    print(response_1)\n",
    "\n",
    "    # Another sample query, perhaps one not directly answerable by the documents\n",
    "    question_2 = \"What is the new law regarding cryptocurrency in Pakistan?\"\n",
    "    print(f\"\\n\\nQuestion 2: {question_2}\")\n",
    "    response_2 = rag_chain.invoke({\"question\": question_2})\n",
    "    print(\"\\nAnswer 2:\")\n",
    "    print(response_2)"
   ],
   "id": "b55741d4804c9946",
   "outputs": [
    {
     "name": "stdout",
     "output_type": "stream",
     "text": [
      "Generative LLM (qwen3:1.7b via Ollama) initialized successfully.\n",
      "\n",
      "RAG Prompt Template defined.\n",
      "\n",
      "RAG chain assembled.\n",
      "\n",
      "--- Testing the Full RAG Pipeline ---\n",
      "\n",
      "Question 1: What are the functions and powers of the Privatisation Commission as per the Ordinance?\n"
     ]
    },
    {
     "ename": "NameError",
     "evalue": "name 'retrieve_relevant_chunks' is not defined",
     "output_type": "error",
     "traceback": [
      "\u001B[31m---------------------------------------------------------------------------\u001B[39m",
      "\u001B[31mNameError\u001B[39m                                 Traceback (most recent call last)",
      "\u001B[36mCell\u001B[39m\u001B[36m \u001B[39m\u001B[32mIn[1]\u001B[39m\u001B[32m, line 52\u001B[39m\n\u001B[32m     50\u001B[39m question_1 = \u001B[33m\"\u001B[39m\u001B[33mWhat are the functions and powers of the Privatisation Commission as per the Ordinance?\u001B[39m\u001B[33m\"\u001B[39m\n\u001B[32m     51\u001B[39m \u001B[38;5;28mprint\u001B[39m(\u001B[33mf\u001B[39m\u001B[33m\"\u001B[39m\u001B[38;5;130;01m\\n\u001B[39;00m\u001B[33mQuestion 1: \u001B[39m\u001B[38;5;132;01m{\u001B[39;00mquestion_1\u001B[38;5;132;01m}\u001B[39;00m\u001B[33m\"\u001B[39m)\n\u001B[32m---> \u001B[39m\u001B[32m52\u001B[39m response_1 = \u001B[43mrag_chain\u001B[49m\u001B[43m.\u001B[49m\u001B[43minvoke\u001B[49m\u001B[43m(\u001B[49m\u001B[43m{\u001B[49m\u001B[33;43m\"\u001B[39;49m\u001B[33;43mquestion\u001B[39;49m\u001B[33;43m\"\u001B[39;49m\u001B[43m:\u001B[49m\u001B[43m \u001B[49m\u001B[43mquestion_1\u001B[49m\u001B[43m}\u001B[49m\u001B[43m)\u001B[49m\n\u001B[32m     53\u001B[39m \u001B[38;5;28mprint\u001B[39m(\u001B[33m\"\u001B[39m\u001B[38;5;130;01m\\n\u001B[39;00m\u001B[33mAnswer 1:\u001B[39m\u001B[33m\"\u001B[39m)\n\u001B[32m     54\u001B[39m \u001B[38;5;28mprint\u001B[39m(response_1)\n",
      "\u001B[36mFile \u001B[39m\u001B[32m~/PycharmProjects/LLM_Production_01_RAG/.venv/lib/python3.12/site-packages/langchain_core/runnables/base.py:3044\u001B[39m, in \u001B[36mRunnableSequence.invoke\u001B[39m\u001B[34m(self, input, config, **kwargs)\u001B[39m\n\u001B[32m   3042\u001B[39m \u001B[38;5;28;01mwith\u001B[39;00m set_config_context(config) \u001B[38;5;28;01mas\u001B[39;00m context:\n\u001B[32m   3043\u001B[39m     \u001B[38;5;28;01mif\u001B[39;00m i == \u001B[32m0\u001B[39m:\n\u001B[32m-> \u001B[39m\u001B[32m3044\u001B[39m         input_ = \u001B[43mcontext\u001B[49m\u001B[43m.\u001B[49m\u001B[43mrun\u001B[49m\u001B[43m(\u001B[49m\u001B[43mstep\u001B[49m\u001B[43m.\u001B[49m\u001B[43minvoke\u001B[49m\u001B[43m,\u001B[49m\u001B[43m \u001B[49m\u001B[43minput_\u001B[49m\u001B[43m,\u001B[49m\u001B[43m \u001B[49m\u001B[43mconfig\u001B[49m\u001B[43m,\u001B[49m\u001B[43m \u001B[49m\u001B[43m*\u001B[49m\u001B[43m*\u001B[49m\u001B[43mkwargs\u001B[49m\u001B[43m)\u001B[49m\n\u001B[32m   3045\u001B[39m     \u001B[38;5;28;01melse\u001B[39;00m:\n\u001B[32m   3046\u001B[39m         input_ = context.run(step.invoke, input_, config)\n",
      "\u001B[36mFile \u001B[39m\u001B[32m~/PycharmProjects/LLM_Production_01_RAG/.venv/lib/python3.12/site-packages/langchain_core/runnables/passthrough.py:511\u001B[39m, in \u001B[36mRunnableAssign.invoke\u001B[39m\u001B[34m(self, input, config, **kwargs)\u001B[39m\n\u001B[32m    504\u001B[39m \u001B[38;5;129m@override\u001B[39m\n\u001B[32m    505\u001B[39m \u001B[38;5;28;01mdef\u001B[39;00m\u001B[38;5;250m \u001B[39m\u001B[34minvoke\u001B[39m(\n\u001B[32m    506\u001B[39m     \u001B[38;5;28mself\u001B[39m,\n\u001B[32m   (...)\u001B[39m\u001B[32m    509\u001B[39m     **kwargs: Any,\n\u001B[32m    510\u001B[39m ) -> \u001B[38;5;28mdict\u001B[39m[\u001B[38;5;28mstr\u001B[39m, Any]:\n\u001B[32m--> \u001B[39m\u001B[32m511\u001B[39m     \u001B[38;5;28;01mreturn\u001B[39;00m \u001B[38;5;28;43mself\u001B[39;49m\u001B[43m.\u001B[49m\u001B[43m_call_with_config\u001B[49m\u001B[43m(\u001B[49m\u001B[38;5;28;43mself\u001B[39;49m\u001B[43m.\u001B[49m\u001B[43m_invoke\u001B[49m\u001B[43m,\u001B[49m\u001B[43m \u001B[49m\u001B[38;5;28;43minput\u001B[39;49m\u001B[43m,\u001B[49m\u001B[43m \u001B[49m\u001B[43mconfig\u001B[49m\u001B[43m,\u001B[49m\u001B[43m \u001B[49m\u001B[43m*\u001B[49m\u001B[43m*\u001B[49m\u001B[43mkwargs\u001B[49m\u001B[43m)\u001B[49m\n",
      "\u001B[36mFile \u001B[39m\u001B[32m~/PycharmProjects/LLM_Production_01_RAG/.venv/lib/python3.12/site-packages/langchain_core/runnables/base.py:1939\u001B[39m, in \u001B[36mRunnable._call_with_config\u001B[39m\u001B[34m(self, func, input_, config, run_type, serialized, **kwargs)\u001B[39m\n\u001B[32m   1935\u001B[39m     child_config = patch_config(config, callbacks=run_manager.get_child())\n\u001B[32m   1936\u001B[39m     \u001B[38;5;28;01mwith\u001B[39;00m set_config_context(child_config) \u001B[38;5;28;01mas\u001B[39;00m context:\n\u001B[32m   1937\u001B[39m         output = cast(\n\u001B[32m   1938\u001B[39m             \u001B[33m\"\u001B[39m\u001B[33mOutput\u001B[39m\u001B[33m\"\u001B[39m,\n\u001B[32m-> \u001B[39m\u001B[32m1939\u001B[39m             \u001B[43mcontext\u001B[49m\u001B[43m.\u001B[49m\u001B[43mrun\u001B[49m\u001B[43m(\u001B[49m\n\u001B[32m   1940\u001B[39m \u001B[43m                \u001B[49m\u001B[43mcall_func_with_variable_args\u001B[49m\u001B[43m,\u001B[49m\u001B[43m  \u001B[49m\u001B[38;5;66;43;03m# type: ignore[arg-type]\u001B[39;49;00m\n\u001B[32m   1941\u001B[39m \u001B[43m                \u001B[49m\u001B[43mfunc\u001B[49m\u001B[43m,\u001B[49m\n\u001B[32m   1942\u001B[39m \u001B[43m                \u001B[49m\u001B[43minput_\u001B[49m\u001B[43m,\u001B[49m\n\u001B[32m   1943\u001B[39m \u001B[43m                \u001B[49m\u001B[43mconfig\u001B[49m\u001B[43m,\u001B[49m\n\u001B[32m   1944\u001B[39m \u001B[43m                \u001B[49m\u001B[43mrun_manager\u001B[49m\u001B[43m,\u001B[49m\n\u001B[32m   1945\u001B[39m \u001B[43m                \u001B[49m\u001B[43m*\u001B[49m\u001B[43m*\u001B[49m\u001B[43mkwargs\u001B[49m\u001B[43m,\u001B[49m\n\u001B[32m   1946\u001B[39m \u001B[43m            \u001B[49m\u001B[43m)\u001B[49m,\n\u001B[32m   1947\u001B[39m         )\n\u001B[32m   1948\u001B[39m \u001B[38;5;28;01mexcept\u001B[39;00m \u001B[38;5;167;01mBaseException\u001B[39;00m \u001B[38;5;28;01mas\u001B[39;00m e:\n\u001B[32m   1949\u001B[39m     run_manager.on_chain_error(e)\n",
      "\u001B[36mFile \u001B[39m\u001B[32m~/PycharmProjects/LLM_Production_01_RAG/.venv/lib/python3.12/site-packages/langchain_core/runnables/config.py:429\u001B[39m, in \u001B[36mcall_func_with_variable_args\u001B[39m\u001B[34m(func, input, config, run_manager, **kwargs)\u001B[39m\n\u001B[32m    427\u001B[39m \u001B[38;5;28;01mif\u001B[39;00m run_manager \u001B[38;5;129;01mis\u001B[39;00m \u001B[38;5;129;01mnot\u001B[39;00m \u001B[38;5;28;01mNone\u001B[39;00m \u001B[38;5;129;01mand\u001B[39;00m accepts_run_manager(func):\n\u001B[32m    428\u001B[39m     kwargs[\u001B[33m\"\u001B[39m\u001B[33mrun_manager\u001B[39m\u001B[33m\"\u001B[39m] = run_manager\n\u001B[32m--> \u001B[39m\u001B[32m429\u001B[39m \u001B[38;5;28;01mreturn\u001B[39;00m \u001B[43mfunc\u001B[49m\u001B[43m(\u001B[49m\u001B[38;5;28;43minput\u001B[39;49m\u001B[43m,\u001B[49m\u001B[43m \u001B[49m\u001B[43m*\u001B[49m\u001B[43m*\u001B[49m\u001B[43mkwargs\u001B[49m\u001B[43m)\u001B[49m\n",
      "\u001B[36mFile \u001B[39m\u001B[32m~/PycharmProjects/LLM_Production_01_RAG/.venv/lib/python3.12/site-packages/langchain_core/runnables/passthrough.py:497\u001B[39m, in \u001B[36mRunnableAssign._invoke\u001B[39m\u001B[34m(self, value, run_manager, config, **kwargs)\u001B[39m\n\u001B[32m    492\u001B[39m     msg = \u001B[33m\"\u001B[39m\u001B[33mThe input to RunnablePassthrough.assign() must be a dict.\u001B[39m\u001B[33m\"\u001B[39m\n\u001B[32m    493\u001B[39m     \u001B[38;5;28;01mraise\u001B[39;00m \u001B[38;5;167;01mValueError\u001B[39;00m(msg)  \u001B[38;5;66;03m# noqa: TRY004\u001B[39;00m\n\u001B[32m    495\u001B[39m \u001B[38;5;28;01mreturn\u001B[39;00m {\n\u001B[32m    496\u001B[39m     **value,\n\u001B[32m--> \u001B[39m\u001B[32m497\u001B[39m     **\u001B[38;5;28;43mself\u001B[39;49m\u001B[43m.\u001B[49m\u001B[43mmapper\u001B[49m\u001B[43m.\u001B[49m\u001B[43minvoke\u001B[49m\u001B[43m(\u001B[49m\n\u001B[32m    498\u001B[39m \u001B[43m        \u001B[49m\u001B[43mvalue\u001B[49m\u001B[43m,\u001B[49m\n\u001B[32m    499\u001B[39m \u001B[43m        \u001B[49m\u001B[43mpatch_config\u001B[49m\u001B[43m(\u001B[49m\u001B[43mconfig\u001B[49m\u001B[43m,\u001B[49m\u001B[43m \u001B[49m\u001B[43mcallbacks\u001B[49m\u001B[43m=\u001B[49m\u001B[43mrun_manager\u001B[49m\u001B[43m.\u001B[49m\u001B[43mget_child\u001B[49m\u001B[43m(\u001B[49m\u001B[43m)\u001B[49m\u001B[43m)\u001B[49m\u001B[43m,\u001B[49m\n\u001B[32m    500\u001B[39m \u001B[43m        \u001B[49m\u001B[43m*\u001B[49m\u001B[43m*\u001B[49m\u001B[43mkwargs\u001B[49m\u001B[43m,\u001B[49m\n\u001B[32m    501\u001B[39m \u001B[43m    \u001B[49m\u001B[43m)\u001B[49m,\n\u001B[32m    502\u001B[39m }\n",
      "\u001B[36mFile \u001B[39m\u001B[32m~/PycharmProjects/LLM_Production_01_RAG/.venv/lib/python3.12/site-packages/langchain_core/runnables/base.py:3773\u001B[39m, in \u001B[36mRunnableParallel.invoke\u001B[39m\u001B[34m(self, input, config, **kwargs)\u001B[39m\n\u001B[32m   3768\u001B[39m     \u001B[38;5;28;01mwith\u001B[39;00m get_executor_for_config(config) \u001B[38;5;28;01mas\u001B[39;00m executor:\n\u001B[32m   3769\u001B[39m         futures = [\n\u001B[32m   3770\u001B[39m             executor.submit(_invoke_step, step, \u001B[38;5;28minput\u001B[39m, config, key)\n\u001B[32m   3771\u001B[39m             \u001B[38;5;28;01mfor\u001B[39;00m key, step \u001B[38;5;129;01min\u001B[39;00m steps.items()\n\u001B[32m   3772\u001B[39m         ]\n\u001B[32m-> \u001B[39m\u001B[32m3773\u001B[39m         output = {key: \u001B[43mfuture\u001B[49m\u001B[43m.\u001B[49m\u001B[43mresult\u001B[49m\u001B[43m(\u001B[49m\u001B[43m)\u001B[49m \u001B[38;5;28;01mfor\u001B[39;00m key, future \u001B[38;5;129;01min\u001B[39;00m \u001B[38;5;28mzip\u001B[39m(steps, futures)}\n\u001B[32m   3774\u001B[39m \u001B[38;5;66;03m# finish the root run\u001B[39;00m\n\u001B[32m   3775\u001B[39m \u001B[38;5;28;01mexcept\u001B[39;00m \u001B[38;5;167;01mBaseException\u001B[39;00m \u001B[38;5;28;01mas\u001B[39;00m e:\n",
      "\u001B[36mFile \u001B[39m\u001B[32m/Library/Frameworks/Python.framework/Versions/3.12/lib/python3.12/concurrent/futures/_base.py:449\u001B[39m, in \u001B[36mFuture.result\u001B[39m\u001B[34m(self, timeout)\u001B[39m\n\u001B[32m    447\u001B[39m     \u001B[38;5;28;01mraise\u001B[39;00m CancelledError()\n\u001B[32m    448\u001B[39m \u001B[38;5;28;01melif\u001B[39;00m \u001B[38;5;28mself\u001B[39m._state == FINISHED:\n\u001B[32m--> \u001B[39m\u001B[32m449\u001B[39m     \u001B[38;5;28;01mreturn\u001B[39;00m \u001B[38;5;28;43mself\u001B[39;49m\u001B[43m.\u001B[49m\u001B[43m__get_result\u001B[49m\u001B[43m(\u001B[49m\u001B[43m)\u001B[49m\n\u001B[32m    451\u001B[39m \u001B[38;5;28mself\u001B[39m._condition.wait(timeout)\n\u001B[32m    453\u001B[39m \u001B[38;5;28;01mif\u001B[39;00m \u001B[38;5;28mself\u001B[39m._state \u001B[38;5;129;01min\u001B[39;00m [CANCELLED, CANCELLED_AND_NOTIFIED]:\n",
      "\u001B[36mFile \u001B[39m\u001B[32m/Library/Frameworks/Python.framework/Versions/3.12/lib/python3.12/concurrent/futures/_base.py:401\u001B[39m, in \u001B[36mFuture.__get_result\u001B[39m\u001B[34m(self)\u001B[39m\n\u001B[32m    399\u001B[39m \u001B[38;5;28;01mif\u001B[39;00m \u001B[38;5;28mself\u001B[39m._exception:\n\u001B[32m    400\u001B[39m     \u001B[38;5;28;01mtry\u001B[39;00m:\n\u001B[32m--> \u001B[39m\u001B[32m401\u001B[39m         \u001B[38;5;28;01mraise\u001B[39;00m \u001B[38;5;28mself\u001B[39m._exception\n\u001B[32m    402\u001B[39m     \u001B[38;5;28;01mfinally\u001B[39;00m:\n\u001B[32m    403\u001B[39m         \u001B[38;5;66;03m# Break a reference cycle with the exception in self._exception\u001B[39;00m\n\u001B[32m    404\u001B[39m         \u001B[38;5;28mself\u001B[39m = \u001B[38;5;28;01mNone\u001B[39;00m\n",
      "\u001B[36mFile \u001B[39m\u001B[32m/Library/Frameworks/Python.framework/Versions/3.12/lib/python3.12/concurrent/futures/thread.py:58\u001B[39m, in \u001B[36m_WorkItem.run\u001B[39m\u001B[34m(self)\u001B[39m\n\u001B[32m     55\u001B[39m     \u001B[38;5;28;01mreturn\u001B[39;00m\n\u001B[32m     57\u001B[39m \u001B[38;5;28;01mtry\u001B[39;00m:\n\u001B[32m---> \u001B[39m\u001B[32m58\u001B[39m     result = \u001B[38;5;28;43mself\u001B[39;49m\u001B[43m.\u001B[49m\u001B[43mfn\u001B[49m\u001B[43m(\u001B[49m\u001B[43m*\u001B[49m\u001B[38;5;28;43mself\u001B[39;49m\u001B[43m.\u001B[49m\u001B[43margs\u001B[49m\u001B[43m,\u001B[49m\u001B[43m \u001B[49m\u001B[43m*\u001B[49m\u001B[43m*\u001B[49m\u001B[38;5;28;43mself\u001B[39;49m\u001B[43m.\u001B[49m\u001B[43mkwargs\u001B[49m\u001B[43m)\u001B[49m\n\u001B[32m     59\u001B[39m \u001B[38;5;28;01mexcept\u001B[39;00m \u001B[38;5;167;01mBaseException\u001B[39;00m \u001B[38;5;28;01mas\u001B[39;00m exc:\n\u001B[32m     60\u001B[39m     \u001B[38;5;28mself\u001B[39m.future.set_exception(exc)\n",
      "\u001B[36mFile \u001B[39m\u001B[32m~/PycharmProjects/LLM_Production_01_RAG/.venv/lib/python3.12/site-packages/langchain_core/runnables/base.py:3757\u001B[39m, in \u001B[36mRunnableParallel.invoke.<locals>._invoke_step\u001B[39m\u001B[34m(step, input_, config, key)\u001B[39m\n\u001B[32m   3751\u001B[39m child_config = patch_config(\n\u001B[32m   3752\u001B[39m     config,\n\u001B[32m   3753\u001B[39m     \u001B[38;5;66;03m# mark each step as a child run\u001B[39;00m\n\u001B[32m   3754\u001B[39m     callbacks=run_manager.get_child(\u001B[33mf\u001B[39m\u001B[33m\"\u001B[39m\u001B[33mmap:key:\u001B[39m\u001B[38;5;132;01m{\u001B[39;00mkey\u001B[38;5;132;01m}\u001B[39;00m\u001B[33m\"\u001B[39m),\n\u001B[32m   3755\u001B[39m )\n\u001B[32m   3756\u001B[39m \u001B[38;5;28;01mwith\u001B[39;00m set_config_context(child_config) \u001B[38;5;28;01mas\u001B[39;00m context:\n\u001B[32m-> \u001B[39m\u001B[32m3757\u001B[39m     \u001B[38;5;28;01mreturn\u001B[39;00m \u001B[43mcontext\u001B[49m\u001B[43m.\u001B[49m\u001B[43mrun\u001B[49m\u001B[43m(\u001B[49m\n\u001B[32m   3758\u001B[39m \u001B[43m        \u001B[49m\u001B[43mstep\u001B[49m\u001B[43m.\u001B[49m\u001B[43minvoke\u001B[49m\u001B[43m,\u001B[49m\n\u001B[32m   3759\u001B[39m \u001B[43m        \u001B[49m\u001B[43minput_\u001B[49m\u001B[43m,\u001B[49m\n\u001B[32m   3760\u001B[39m \u001B[43m        \u001B[49m\u001B[43mchild_config\u001B[49m\u001B[43m,\u001B[49m\n\u001B[32m   3761\u001B[39m \u001B[43m    \u001B[49m\u001B[43m)\u001B[49m\n",
      "\u001B[36mFile \u001B[39m\u001B[32m~/PycharmProjects/LLM_Production_01_RAG/.venv/lib/python3.12/site-packages/langchain_core/runnables/base.py:4775\u001B[39m, in \u001B[36mRunnableLambda.invoke\u001B[39m\u001B[34m(self, input, config, **kwargs)\u001B[39m\n\u001B[32m   4761\u001B[39m \u001B[38;5;250m\u001B[39m\u001B[33;03m\"\"\"Invoke this Runnable synchronously.\u001B[39;00m\n\u001B[32m   4762\u001B[39m \n\u001B[32m   4763\u001B[39m \u001B[33;03mArgs:\u001B[39;00m\n\u001B[32m   (...)\u001B[39m\u001B[32m   4772\u001B[39m \u001B[33;03m    TypeError: If the Runnable is a coroutine function.\u001B[39;00m\n\u001B[32m   4773\u001B[39m \u001B[33;03m\"\"\"\u001B[39;00m\n\u001B[32m   4774\u001B[39m \u001B[38;5;28;01mif\u001B[39;00m \u001B[38;5;28mhasattr\u001B[39m(\u001B[38;5;28mself\u001B[39m, \u001B[33m\"\u001B[39m\u001B[33mfunc\u001B[39m\u001B[33m\"\u001B[39m):\n\u001B[32m-> \u001B[39m\u001B[32m4775\u001B[39m     \u001B[38;5;28;01mreturn\u001B[39;00m \u001B[38;5;28;43mself\u001B[39;49m\u001B[43m.\u001B[49m\u001B[43m_call_with_config\u001B[49m\u001B[43m(\u001B[49m\n\u001B[32m   4776\u001B[39m \u001B[43m        \u001B[49m\u001B[38;5;28;43mself\u001B[39;49m\u001B[43m.\u001B[49m\u001B[43m_invoke\u001B[49m\u001B[43m,\u001B[49m\n\u001B[32m   4777\u001B[39m \u001B[43m        \u001B[49m\u001B[38;5;28;43minput\u001B[39;49m\u001B[43m,\u001B[49m\n\u001B[32m   4778\u001B[39m \u001B[43m        \u001B[49m\u001B[43mensure_config\u001B[49m\u001B[43m(\u001B[49m\u001B[43mconfig\u001B[49m\u001B[43m)\u001B[49m\u001B[43m,\u001B[49m\n\u001B[32m   4779\u001B[39m \u001B[43m        \u001B[49m\u001B[43m*\u001B[49m\u001B[43m*\u001B[49m\u001B[43mkwargs\u001B[49m\u001B[43m,\u001B[49m\n\u001B[32m   4780\u001B[39m \u001B[43m    \u001B[49m\u001B[43m)\u001B[49m\n\u001B[32m   4781\u001B[39m msg = \u001B[33m\"\u001B[39m\u001B[33mCannot invoke a coroutine function synchronously.Use `ainvoke` instead.\u001B[39m\u001B[33m\"\u001B[39m\n\u001B[32m   4782\u001B[39m \u001B[38;5;28;01mraise\u001B[39;00m \u001B[38;5;167;01mTypeError\u001B[39;00m(msg)\n",
      "\u001B[36mFile \u001B[39m\u001B[32m~/PycharmProjects/LLM_Production_01_RAG/.venv/lib/python3.12/site-packages/langchain_core/runnables/base.py:1939\u001B[39m, in \u001B[36mRunnable._call_with_config\u001B[39m\u001B[34m(self, func, input_, config, run_type, serialized, **kwargs)\u001B[39m\n\u001B[32m   1935\u001B[39m     child_config = patch_config(config, callbacks=run_manager.get_child())\n\u001B[32m   1936\u001B[39m     \u001B[38;5;28;01mwith\u001B[39;00m set_config_context(child_config) \u001B[38;5;28;01mas\u001B[39;00m context:\n\u001B[32m   1937\u001B[39m         output = cast(\n\u001B[32m   1938\u001B[39m             \u001B[33m\"\u001B[39m\u001B[33mOutput\u001B[39m\u001B[33m\"\u001B[39m,\n\u001B[32m-> \u001B[39m\u001B[32m1939\u001B[39m             \u001B[43mcontext\u001B[49m\u001B[43m.\u001B[49m\u001B[43mrun\u001B[49m\u001B[43m(\u001B[49m\n\u001B[32m   1940\u001B[39m \u001B[43m                \u001B[49m\u001B[43mcall_func_with_variable_args\u001B[49m\u001B[43m,\u001B[49m\u001B[43m  \u001B[49m\u001B[38;5;66;43;03m# type: ignore[arg-type]\u001B[39;49;00m\n\u001B[32m   1941\u001B[39m \u001B[43m                \u001B[49m\u001B[43mfunc\u001B[49m\u001B[43m,\u001B[49m\n\u001B[32m   1942\u001B[39m \u001B[43m                \u001B[49m\u001B[43minput_\u001B[49m\u001B[43m,\u001B[49m\n\u001B[32m   1943\u001B[39m \u001B[43m                \u001B[49m\u001B[43mconfig\u001B[49m\u001B[43m,\u001B[49m\n\u001B[32m   1944\u001B[39m \u001B[43m                \u001B[49m\u001B[43mrun_manager\u001B[49m\u001B[43m,\u001B[49m\n\u001B[32m   1945\u001B[39m \u001B[43m                \u001B[49m\u001B[43m*\u001B[49m\u001B[43m*\u001B[49m\u001B[43mkwargs\u001B[49m\u001B[43m,\u001B[49m\n\u001B[32m   1946\u001B[39m \u001B[43m            \u001B[49m\u001B[43m)\u001B[49m,\n\u001B[32m   1947\u001B[39m         )\n\u001B[32m   1948\u001B[39m \u001B[38;5;28;01mexcept\u001B[39;00m \u001B[38;5;167;01mBaseException\u001B[39;00m \u001B[38;5;28;01mas\u001B[39;00m e:\n\u001B[32m   1949\u001B[39m     run_manager.on_chain_error(e)\n",
      "\u001B[36mFile \u001B[39m\u001B[32m~/PycharmProjects/LLM_Production_01_RAG/.venv/lib/python3.12/site-packages/langchain_core/runnables/config.py:429\u001B[39m, in \u001B[36mcall_func_with_variable_args\u001B[39m\u001B[34m(func, input, config, run_manager, **kwargs)\u001B[39m\n\u001B[32m    427\u001B[39m \u001B[38;5;28;01mif\u001B[39;00m run_manager \u001B[38;5;129;01mis\u001B[39;00m \u001B[38;5;129;01mnot\u001B[39;00m \u001B[38;5;28;01mNone\u001B[39;00m \u001B[38;5;129;01mand\u001B[39;00m accepts_run_manager(func):\n\u001B[32m    428\u001B[39m     kwargs[\u001B[33m\"\u001B[39m\u001B[33mrun_manager\u001B[39m\u001B[33m\"\u001B[39m] = run_manager\n\u001B[32m--> \u001B[39m\u001B[32m429\u001B[39m \u001B[38;5;28;01mreturn\u001B[39;00m \u001B[43mfunc\u001B[49m\u001B[43m(\u001B[49m\u001B[38;5;28;43minput\u001B[39;49m\u001B[43m,\u001B[49m\u001B[43m \u001B[49m\u001B[43m*\u001B[49m\u001B[43m*\u001B[49m\u001B[43mkwargs\u001B[49m\u001B[43m)\u001B[49m\n",
      "\u001B[36mFile \u001B[39m\u001B[32m~/PycharmProjects/LLM_Production_01_RAG/.venv/lib/python3.12/site-packages/langchain_core/runnables/base.py:4633\u001B[39m, in \u001B[36mRunnableLambda._invoke\u001B[39m\u001B[34m(self, input_, run_manager, config, **kwargs)\u001B[39m\n\u001B[32m   4631\u001B[39m                 output = chunk\n\u001B[32m   4632\u001B[39m \u001B[38;5;28;01melse\u001B[39;00m:\n\u001B[32m-> \u001B[39m\u001B[32m4633\u001B[39m     output = \u001B[43mcall_func_with_variable_args\u001B[49m\u001B[43m(\u001B[49m\n\u001B[32m   4634\u001B[39m \u001B[43m        \u001B[49m\u001B[38;5;28;43mself\u001B[39;49m\u001B[43m.\u001B[49m\u001B[43mfunc\u001B[49m\u001B[43m,\u001B[49m\u001B[43m \u001B[49m\u001B[43minput_\u001B[49m\u001B[43m,\u001B[49m\u001B[43m \u001B[49m\u001B[43mconfig\u001B[49m\u001B[43m,\u001B[49m\u001B[43m \u001B[49m\u001B[43mrun_manager\u001B[49m\u001B[43m,\u001B[49m\u001B[43m \u001B[49m\u001B[43m*\u001B[49m\u001B[43m*\u001B[49m\u001B[43mkwargs\u001B[49m\n\u001B[32m   4635\u001B[39m \u001B[43m    \u001B[49m\u001B[43m)\u001B[49m\n\u001B[32m   4636\u001B[39m \u001B[38;5;66;03m# If the output is a Runnable, invoke it\u001B[39;00m\n\u001B[32m   4637\u001B[39m \u001B[38;5;28;01mif\u001B[39;00m \u001B[38;5;28misinstance\u001B[39m(output, Runnable):\n",
      "\u001B[36mFile \u001B[39m\u001B[32m~/PycharmProjects/LLM_Production_01_RAG/.venv/lib/python3.12/site-packages/langchain_core/runnables/config.py:429\u001B[39m, in \u001B[36mcall_func_with_variable_args\u001B[39m\u001B[34m(func, input, config, run_manager, **kwargs)\u001B[39m\n\u001B[32m    427\u001B[39m \u001B[38;5;28;01mif\u001B[39;00m run_manager \u001B[38;5;129;01mis\u001B[39;00m \u001B[38;5;129;01mnot\u001B[39;00m \u001B[38;5;28;01mNone\u001B[39;00m \u001B[38;5;129;01mand\u001B[39;00m accepts_run_manager(func):\n\u001B[32m    428\u001B[39m     kwargs[\u001B[33m\"\u001B[39m\u001B[33mrun_manager\u001B[39m\u001B[33m\"\u001B[39m] = run_manager\n\u001B[32m--> \u001B[39m\u001B[32m429\u001B[39m \u001B[38;5;28;01mreturn\u001B[39;00m \u001B[43mfunc\u001B[49m\u001B[43m(\u001B[49m\u001B[38;5;28;43minput\u001B[39;49m\u001B[43m,\u001B[49m\u001B[43m \u001B[49m\u001B[43m*\u001B[49m\u001B[43m*\u001B[49m\u001B[43mkwargs\u001B[49m\u001B[43m)\u001B[49m\n",
      "\u001B[36mCell\u001B[39m\u001B[36m \u001B[39m\u001B[32mIn[1]\u001B[39m\u001B[32m, line 38\u001B[39m, in \u001B[36m<lambda>\u001B[39m\u001B[34m(x)\u001B[39m\n\u001B[32m     33\u001B[39m     \u001B[38;5;28;01mreturn\u001B[39;00m \u001B[33m\"\u001B[39m\u001B[38;5;130;01m\\n\u001B[39;00m\u001B[38;5;130;01m\\n\u001B[39;00m\u001B[33m\"\u001B[39m.join(doc[\u001B[33m\"\u001B[39m\u001B[33mchunk_content\u001B[39m\u001B[33m\"\u001B[39m] \u001B[38;5;28;01mfor\u001B[39;00m doc \u001B[38;5;129;01min\u001B[39;00m docs)\n\u001B[32m     35\u001B[39m \u001B[38;5;66;03m# The custom_retriever_runnable assumes retrieve_relevant_chunks is defined in Cell 2.\u001B[39;00m\n\u001B[32m     36\u001B[39m \u001B[38;5;66;03m# Make sure Cell 2 was run successfully.\u001B[39;00m\n\u001B[32m     37\u001B[39m custom_retriever_runnable = RunnablePassthrough.assign(\n\u001B[32m---> \u001B[39m\u001B[32m38\u001B[39m     context=\u001B[38;5;28;01mlambda\u001B[39;00m x: format_docs(\u001B[43mretrieve_relevant_chunks\u001B[49m(x[\u001B[33m\"\u001B[39m\u001B[33mquestion\u001B[39m\u001B[33m\"\u001B[39m], n_results=\u001B[32m5\u001B[39m)) \u001B[38;5;66;03m# Adjust n_results as needed\u001B[39;00m\n\u001B[32m     39\u001B[39m )\n\u001B[32m     41\u001B[39m rag_chain = custom_retriever_runnable | rag_prompt_template | llm | StrOutputParser()\n\u001B[32m     43\u001B[39m \u001B[38;5;28mprint\u001B[39m(\u001B[33m\"\u001B[39m\u001B[38;5;130;01m\\n\u001B[39;00m\u001B[33mRAG chain assembled.\u001B[39m\u001B[33m\"\u001B[39m)\n",
      "\u001B[31mNameError\u001B[39m: name 'retrieve_relevant_chunks' is not defined"
     ]
    }
   ],
   "execution_count": 1
  },
  {
   "metadata": {},
   "cell_type": "code",
   "outputs": [],
   "execution_count": null,
   "source": " \n",
   "id": "36626c7d208f08e1"
  }
 ],
 "metadata": {
  "kernelspec": {
   "display_name": "Python 3",
   "language": "python",
   "name": "python3"
  },
  "language_info": {
   "codemirror_mode": {
    "name": "ipython",
    "version": 2
   },
   "file_extension": ".py",
   "mimetype": "text/x-python",
   "name": "python",
   "nbconvert_exporter": "python",
   "pygments_lexer": "ipython2",
   "version": "2.7.6"
  }
 },
 "nbformat": 4,
 "nbformat_minor": 5
}
